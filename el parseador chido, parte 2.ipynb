{
 "cells": [
  {
   "cell_type": "code",
   "execution_count": 1,
   "metadata": {},
   "outputs": [],
   "source": [
    "# The purpose of the following project is to get some insight on spirit prices. \n",
    "# This notebook contains a parser whose main objecetive is to parse the data from \"liquorama\", an online brewery\n",
    "# store from California. This script will extract information about their beer listings and obtain data regarding characteristics\n",
    "# such as price, brand, reviews ETCETERA. It will store the resulting objects into a JSON dictionary that will be transformed\n",
    "# in a pandas dataframe in \n",
    "\n",
    "\n",
    "#First it will import the required libraries in order to scrape the data succesfully"
   ]
  },
  {
   "cell_type": "code",
   "execution_count": 2,
   "metadata": {},
   "outputs": [],
   "source": [
    "import numpy as np\n",
    "import pandas as pd\n",
    "import requests\n",
    "from bs4 import BeautifulSoup, SoupStrainer\n",
    "from urllib.request import urlopen, Request\n",
    "import json"
   ]
  },
  {
   "cell_type": "code",
   "execution_count": 3,
   "metadata": {},
   "outputs": [
    {
     "name": "stdout",
     "output_type": "stream",
     "text": [
      "User-agent: *\r\n",
      "Disallow: /search.php\n",
      "User-agent: *\n",
      "Disallow: /*?_bc_fsnf=1*\n",
      "Disallow: /*&_bc_fsnf=1*\n",
      "\n"
     ]
    }
   ],
   "source": [
    "print(requests.get(\"https://www.liquorama.net/robots.txt\").text)"
   ]
  },
  {
   "cell_type": "code",
   "execution_count": null,
   "metadata": {},
   "outputs": [],
   "source": [
    "#The connection to the website was succesful and allows for scraping"
   ]
  },
  {
   "cell_type": "code",
   "execution_count": null,
   "metadata": {},
   "outputs": [],
   "source": [
    "################################################\n",
    "\n",
    "# Disallow: /?_bc_fsnf=1 — This blocks bots from following faceted search links and causing performance issues.\n",
    "\n",
    "# Disallow: /&_bc_fsnf=1 — This blocks bots from following faceted search links and causing performance issues.\n",
    "\n",
    "# Disallow: /search.php — This page handles searches from the search box on a store. Google has previously stated \n",
    "#                        that search results pages are not something they want in their index because it creates a poor \n",
    "#                        user experience (going from a search results page to another search results page instead of going \n",
    "#                        directly to the result).\n",
    "#\n",
    "#\n",
    "# Source: Big Commerce (Help Center), \"Understanding the Robots.txt file\", \n",
    "# https://support.bigcommerce.com/s/article/Understanding-the-Robots-txt-File\n",
    "################################################"
   ]
  },
  {
   "cell_type": "code",
   "execution_count": null,
   "metadata": {},
   "outputs": [],
   "source": [
    "# The purpose of this scraper is to get the general information of Liquorama's beer listing. The online store has a 21 page listing \n",
    "# of beers for different size, price, country of origin, reviews and type. \n",
    "\n",
    "# Firstly, we need the complete set of links in an object for further parsing."
   ]
  },
  {
   "cell_type": "code",
   "execution_count": 96,
   "metadata": {},
   "outputs": [],
   "source": [
    "def GetSoup(link):\n",
    "        r = requests.get(link)\n",
    "        r.encoding = 'UTF-8'\n",
    "        return BeautifulSoup(r.text,'lxml')\n",
    "    "
   ]
  },
  {
   "cell_type": "code",
   "execution_count": 87,
   "metadata": {},
   "outputs": [],
   "source": [
    "def GetLinks(link):                     \n",
    "    soup = GetSoup(link)\n",
    "    l = []\n",
    "    for link in soup.findAll('a', attrs={\"class\":\"subcategory-link\"}):\n",
    "        l.append(link.get('href'))\n",
    "    return l"
   ]
  },
  {
   "cell_type": "code",
   "execution_count": null,
   "metadata": {},
   "outputs": [],
   "source": [
    "categories = GetLinks(\"https://www.liquorama.net/spirits/\")"
   ]
  },
  {
   "cell_type": "code",
   "execution_count": 136,
   "metadata": {},
   "outputs": [],
   "source": [
    "sites = []\n",
    "for cat in categories: \n",
    "       for i in range (1,7):\n",
    "        sites.append(cat + \"?sort=featured&page=\" + str(i))"
   ]
  },
  {
   "cell_type": "code",
   "execution_count": 201,
   "metadata": {},
   "outputs": [
    {
     "data": {
      "text/plain": [
       "['https://www.liquorama.net/apertifs-digestives-vermouths/?sort=featured&page=1',\n",
       " 'https://www.liquorama.net/apertifs-digestives-vermouths/?sort=featured&page=2',\n",
       " 'https://www.liquorama.net/apertifs-digestives-vermouths/?sort=featured&page=3',\n",
       " 'https://www.liquorama.net/apertifs-digestives-vermouths/?sort=featured&page=4',\n",
       " 'https://www.liquorama.net/apertifs-digestives-vermouths/?sort=featured&page=5',\n",
       " 'https://www.liquorama.net/apertifs-digestives-vermouths/?sort=featured&page=6',\n",
       " 'https://www.liquorama.net/spirits/japanese-whisky/?sort=featured&page=1',\n",
       " 'https://www.liquorama.net/spirits/japanese-whisky/?sort=featured&page=2',\n",
       " 'https://www.liquorama.net/spirits/japanese-whisky/?sort=featured&page=3',\n",
       " 'https://www.liquorama.net/spirits/japanese-whisky/?sort=featured&page=4',\n",
       " 'https://www.liquorama.net/spirits/japanese-whisky/?sort=featured&page=5',\n",
       " 'https://www.liquorama.net/spirits/japanese-whisky/?sort=featured&page=6',\n",
       " 'https://www.liquorama.net/mezcal/?sort=featured&page=1',\n",
       " 'https://www.liquorama.net/mezcal/?sort=featured&page=2',\n",
       " 'https://www.liquorama.net/mezcal/?sort=featured&page=3',\n",
       " 'https://www.liquorama.net/mezcal/?sort=featured&page=4',\n",
       " 'https://www.liquorama.net/mezcal/?sort=featured&page=5',\n",
       " 'https://www.liquorama.net/mezcal/?sort=featured&page=6',\n",
       " 'https://www.liquorama.net/spirits/rye-whiskey/?sort=featured&page=1',\n",
       " 'https://www.liquorama.net/spirits/rye-whiskey/?sort=featured&page=2',\n",
       " 'https://www.liquorama.net/spirits/rye-whiskey/?sort=featured&page=3',\n",
       " 'https://www.liquorama.net/spirits/rye-whiskey/?sort=featured&page=4',\n",
       " 'https://www.liquorama.net/spirits/rye-whiskey/?sort=featured&page=5',\n",
       " 'https://www.liquorama.net/spirits/rye-whiskey/?sort=featured&page=6',\n",
       " 'https://www.liquorama.net/miniatures/?sort=featured&page=1',\n",
       " 'https://www.liquorama.net/miniatures/?sort=featured&page=2',\n",
       " 'https://www.liquorama.net/miniatures/?sort=featured&page=3',\n",
       " 'https://www.liquorama.net/miniatures/?sort=featured&page=4',\n",
       " 'https://www.liquorama.net/miniatures/?sort=featured&page=5',\n",
       " 'https://www.liquorama.net/miniatures/?sort=featured&page=6',\n",
       " 'https://www.liquorama.net/cognac-brandy/?sort=featured&page=1',\n",
       " 'https://www.liquorama.net/cognac-brandy/?sort=featured&page=2',\n",
       " 'https://www.liquorama.net/cognac-brandy/?sort=featured&page=3',\n",
       " 'https://www.liquorama.net/cognac-brandy/?sort=featured&page=4',\n",
       " 'https://www.liquorama.net/cognac-brandy/?sort=featured&page=5',\n",
       " 'https://www.liquorama.net/cognac-brandy/?sort=featured&page=6',\n",
       " 'https://www.liquorama.net/blended-scotch-whisky/?sort=featured&page=1',\n",
       " 'https://www.liquorama.net/blended-scotch-whisky/?sort=featured&page=2',\n",
       " 'https://www.liquorama.net/blended-scotch-whisky/?sort=featured&page=3',\n",
       " 'https://www.liquorama.net/blended-scotch-whisky/?sort=featured&page=4',\n",
       " 'https://www.liquorama.net/blended-scotch-whisky/?sort=featured&page=5',\n",
       " 'https://www.liquorama.net/blended-scotch-whisky/?sort=featured&page=6',\n",
       " 'https://www.liquorama.net/bourbon-whiskey/?sort=featured&page=1',\n",
       " 'https://www.liquorama.net/bourbon-whiskey/?sort=featured&page=2',\n",
       " 'https://www.liquorama.net/bourbon-whiskey/?sort=featured&page=3',\n",
       " 'https://www.liquorama.net/bourbon-whiskey/?sort=featured&page=4',\n",
       " 'https://www.liquorama.net/bourbon-whiskey/?sort=featured&page=5',\n",
       " 'https://www.liquorama.net/bourbon-whiskey/?sort=featured&page=6',\n",
       " 'https://www.liquorama.net/gin/?sort=featured&page=1',\n",
       " 'https://www.liquorama.net/gin/?sort=featured&page=2',\n",
       " 'https://www.liquorama.net/gin/?sort=featured&page=3',\n",
       " 'https://www.liquorama.net/gin/?sort=featured&page=4',\n",
       " 'https://www.liquorama.net/gin/?sort=featured&page=5',\n",
       " 'https://www.liquorama.net/gin/?sort=featured&page=6',\n",
       " 'https://www.liquorama.net/irish-whiskey/?sort=featured&page=1',\n",
       " 'https://www.liquorama.net/irish-whiskey/?sort=featured&page=2',\n",
       " 'https://www.liquorama.net/irish-whiskey/?sort=featured&page=3',\n",
       " 'https://www.liquorama.net/irish-whiskey/?sort=featured&page=4',\n",
       " 'https://www.liquorama.net/irish-whiskey/?sort=featured&page=5',\n",
       " 'https://www.liquorama.net/irish-whiskey/?sort=featured&page=6',\n",
       " 'https://www.liquorama.net/liqueurs-cordials/?sort=featured&page=1',\n",
       " 'https://www.liquorama.net/liqueurs-cordials/?sort=featured&page=2',\n",
       " 'https://www.liquorama.net/liqueurs-cordials/?sort=featured&page=3',\n",
       " 'https://www.liquorama.net/liqueurs-cordials/?sort=featured&page=4',\n",
       " 'https://www.liquorama.net/liqueurs-cordials/?sort=featured&page=5',\n",
       " 'https://www.liquorama.net/liqueurs-cordials/?sort=featured&page=6',\n",
       " 'https://www.liquorama.net/moonshine/?sort=featured&page=1',\n",
       " 'https://www.liquorama.net/moonshine/?sort=featured&page=2',\n",
       " 'https://www.liquorama.net/moonshine/?sort=featured&page=3',\n",
       " 'https://www.liquorama.net/moonshine/?sort=featured&page=4',\n",
       " 'https://www.liquorama.net/moonshine/?sort=featured&page=5',\n",
       " 'https://www.liquorama.net/moonshine/?sort=featured&page=6',\n",
       " 'https://www.liquorama.net/rum/?sort=featured&page=1',\n",
       " 'https://www.liquorama.net/rum/?sort=featured&page=2',\n",
       " 'https://www.liquorama.net/rum/?sort=featured&page=3',\n",
       " 'https://www.liquorama.net/rum/?sort=featured&page=4',\n",
       " 'https://www.liquorama.net/rum/?sort=featured&page=5',\n",
       " 'https://www.liquorama.net/rum/?sort=featured&page=6',\n",
       " 'https://www.liquorama.net/schnapps/?sort=featured&page=1',\n",
       " 'https://www.liquorama.net/schnapps/?sort=featured&page=2',\n",
       " 'https://www.liquorama.net/schnapps/?sort=featured&page=3',\n",
       " 'https://www.liquorama.net/schnapps/?sort=featured&page=4',\n",
       " 'https://www.liquorama.net/schnapps/?sort=featured&page=5',\n",
       " 'https://www.liquorama.net/schnapps/?sort=featured&page=6',\n",
       " 'https://www.liquorama.net/single-malt-scotch-whisky/?sort=featured&page=1',\n",
       " 'https://www.liquorama.net/single-malt-scotch-whisky/?sort=featured&page=2',\n",
       " 'https://www.liquorama.net/single-malt-scotch-whisky/?sort=featured&page=3',\n",
       " 'https://www.liquorama.net/single-malt-scotch-whisky/?sort=featured&page=4',\n",
       " 'https://www.liquorama.net/single-malt-scotch-whisky/?sort=featured&page=5',\n",
       " 'https://www.liquorama.net/single-malt-scotch-whisky/?sort=featured&page=6',\n",
       " 'https://www.liquorama.net/tequila/?sort=featured&page=1',\n",
       " 'https://www.liquorama.net/tequila/?sort=featured&page=2',\n",
       " 'https://www.liquorama.net/tequila/?sort=featured&page=3',\n",
       " 'https://www.liquorama.net/tequila/?sort=featured&page=4',\n",
       " 'https://www.liquorama.net/tequila/?sort=featured&page=5',\n",
       " 'https://www.liquorama.net/tequila/?sort=featured&page=6',\n",
       " 'https://www.liquorama.net/clase-azul-tequila/?sort=featured&page=1',\n",
       " 'https://www.liquorama.net/clase-azul-tequila/?sort=featured&page=2',\n",
       " 'https://www.liquorama.net/clase-azul-tequila/?sort=featured&page=3',\n",
       " 'https://www.liquorama.net/clase-azul-tequila/?sort=featured&page=4',\n",
       " 'https://www.liquorama.net/clase-azul-tequila/?sort=featured&page=5',\n",
       " 'https://www.liquorama.net/clase-azul-tequila/?sort=featured&page=6',\n",
       " 'https://www.liquorama.net/vodka/?sort=featured&page=1',\n",
       " 'https://www.liquorama.net/vodka/?sort=featured&page=2',\n",
       " 'https://www.liquorama.net/vodka/?sort=featured&page=3',\n",
       " 'https://www.liquorama.net/vodka/?sort=featured&page=4',\n",
       " 'https://www.liquorama.net/vodka/?sort=featured&page=5',\n",
       " 'https://www.liquorama.net/vodka/?sort=featured&page=6']"
      ]
     },
     "execution_count": 201,
     "metadata": {},
     "output_type": "execute_result"
    }
   ],
   "source": [
    "sites"
   ]
  },
  {
   "cell_type": "code",
   "execution_count": 99,
   "metadata": {},
   "outputs": [],
   "source": []
  },
  {
   "cell_type": "code",
   "execution_count": null,
   "metadata": {},
   "outputs": [],
   "source": []
  },
  {
   "cell_type": "code",
   "execution_count": null,
   "metadata": {},
   "outputs": [],
   "source": []
  },
  {
   "cell_type": "code",
   "execution_count": 6,
   "metadata": {},
   "outputs": [],
   "source": []
  },
  {
   "cell_type": "code",
   "execution_count": null,
   "metadata": {},
   "outputs": [],
   "source": []
  },
  {
   "cell_type": "code",
   "execution_count": null,
   "metadata": {},
   "outputs": [],
   "source": []
  },
  {
   "cell_type": "code",
   "execution_count": null,
   "metadata": {},
   "outputs": [],
   "source": []
  },
  {
   "cell_type": "code",
   "execution_count": null,
   "metadata": {},
   "outputs": [],
   "source": []
  },
  {
   "cell_type": "code",
   "execution_count": null,
   "metadata": {},
   "outputs": [],
   "source": [
    "#Afterwards we must build a function that allows us to convert an html from the website to a BeautifulSoup object (BSO)"
   ]
  },
  {
   "cell_type": "code",
   "execution_count": 200,
   "metadata": {},
   "outputs": [
    {
     "ename": "SyntaxError",
     "evalue": "invalid syntax (<ipython-input-200-347118b84c36>, line 3)",
     "output_type": "error",
     "traceback": [
      "\u001b[1;36m  File \u001b[1;32m\"<ipython-input-200-347118b84c36>\"\u001b[1;36m, line \u001b[1;32m3\u001b[0m\n\u001b[1;33m    return div = soup.find(\"div\", {'class':'card-body purchase-ability withoutTax'})\u001b[0m\n\u001b[1;37m               ^\u001b[0m\n\u001b[1;31mSyntaxError\u001b[0m\u001b[1;31m:\u001b[0m invalid syntax\n"
     ]
    }
   ],
   "source": [
    "def parse_dict(link):\n",
    "    soup = GetSoup(link)\n",
    "    return div = soup.find(\"div\", {'class':'card-body purchase-ability withoutTax'})\n",
    "    return {\n",
    "                \"name\":div.find('h4', {'class':'card-title'}).text,\n",
    "                \"price\":soup.find('span', {'class':'price price--withoutTax'}).text,\n",
    "                \"previous_price\":soup.find('span', {'class':'price price--rrp'}).text,\n",
    "                \"category\":soup.find('h2', {'class':'container-header'}).string\n",
    "                #Change sibling\n",
    "        }"
   ]
  },
  {
   "cell_type": "code",
   "execution_count": 147,
   "metadata": {},
   "outputs": [],
   "source": [
    "l=[]\n",
    "for site in sites:\n",
    "    soupObj = parse_dict(link)\n",
    "    l.append(soupObj)\n",
    "df = pd.DataFrame(l)"
   ]
  },
  {
   "cell_type": "code",
   "execution_count": 199,
   "metadata": {},
   "outputs": [
    {
     "ename": "AttributeError",
     "evalue": "'NoneType' object has no attribute 'find'",
     "output_type": "error",
     "traceback": [
      "\u001b[1;31m---------------------------------------------------------------------------\u001b[0m",
      "\u001b[1;31mAttributeError\u001b[0m                            Traceback (most recent call last)",
      "\u001b[1;32m<ipython-input-199-2c0844af226e>\u001b[0m in \u001b[0;36m<module>\u001b[1;34m\u001b[0m\n\u001b[1;32m----> 1\u001b[1;33m \u001b[0mparse_dict\u001b[0m\u001b[1;33m(\u001b[0m\u001b[1;34m\"https://www.liquorama.net/apertifs-digestives-vermouths/?sort=featured&page=5\"\u001b[0m\u001b[1;33m)\u001b[0m\u001b[1;33m\u001b[0m\u001b[1;33m\u001b[0m\u001b[0m\n\u001b[0m",
      "\u001b[1;32m<ipython-input-198-8947485a2337>\u001b[0m in \u001b[0;36mparse_dict\u001b[1;34m(link)\u001b[0m\n\u001b[0;32m      3\u001b[0m     \u001b[0mdiv\u001b[0m \u001b[1;33m=\u001b[0m \u001b[0msoup\u001b[0m\u001b[1;33m.\u001b[0m\u001b[0mfind\u001b[0m\u001b[1;33m(\u001b[0m\u001b[1;34m\"div\"\u001b[0m\u001b[1;33m,\u001b[0m \u001b[1;33m{\u001b[0m\u001b[1;34m'class'\u001b[0m\u001b[1;33m:\u001b[0m\u001b[1;34m'card-body purchase-ability withoutTax'\u001b[0m\u001b[1;33m}\u001b[0m\u001b[1;33m)\u001b[0m\u001b[1;33m\u001b[0m\u001b[1;33m\u001b[0m\u001b[0m\n\u001b[0;32m      4\u001b[0m     return {\n\u001b[1;32m----> 5\u001b[1;33m                 \u001b[1;34m\"name\"\u001b[0m\u001b[1;33m:\u001b[0m\u001b[0mdiv\u001b[0m\u001b[1;33m.\u001b[0m\u001b[0mfind\u001b[0m\u001b[1;33m(\u001b[0m\u001b[1;34m'h4'\u001b[0m\u001b[1;33m,\u001b[0m \u001b[1;33m{\u001b[0m\u001b[1;34m'class'\u001b[0m\u001b[1;33m:\u001b[0m\u001b[1;34m'card-title'\u001b[0m\u001b[1;33m}\u001b[0m\u001b[1;33m)\u001b[0m\u001b[1;33m.\u001b[0m\u001b[0mtext\u001b[0m\u001b[1;33m,\u001b[0m\u001b[1;33m\u001b[0m\u001b[1;33m\u001b[0m\u001b[0m\n\u001b[0m\u001b[0;32m      6\u001b[0m                 \u001b[1;34m\"price\"\u001b[0m\u001b[1;33m:\u001b[0m\u001b[0msoup\u001b[0m\u001b[1;33m.\u001b[0m\u001b[0mfind\u001b[0m\u001b[1;33m(\u001b[0m\u001b[1;34m'span'\u001b[0m\u001b[1;33m,\u001b[0m \u001b[1;33m{\u001b[0m\u001b[1;34m'class'\u001b[0m\u001b[1;33m:\u001b[0m\u001b[1;34m'price price--withoutTax'\u001b[0m\u001b[1;33m}\u001b[0m\u001b[1;33m)\u001b[0m\u001b[1;33m.\u001b[0m\u001b[0mtext\u001b[0m\u001b[1;33m,\u001b[0m\u001b[1;33m\u001b[0m\u001b[1;33m\u001b[0m\u001b[0m\n\u001b[0;32m      7\u001b[0m                 \u001b[1;34m\"previous_price\"\u001b[0m\u001b[1;33m:\u001b[0m\u001b[0msoup\u001b[0m\u001b[1;33m.\u001b[0m\u001b[0mfind\u001b[0m\u001b[1;33m(\u001b[0m\u001b[1;34m'span'\u001b[0m\u001b[1;33m,\u001b[0m \u001b[1;33m{\u001b[0m\u001b[1;34m'class'\u001b[0m\u001b[1;33m:\u001b[0m\u001b[1;34m'price price--rrp'\u001b[0m\u001b[1;33m}\u001b[0m\u001b[1;33m)\u001b[0m\u001b[1;33m.\u001b[0m\u001b[0mtext\u001b[0m\u001b[1;33m,\u001b[0m\u001b[1;33m\u001b[0m\u001b[1;33m\u001b[0m\u001b[0m\n",
      "\u001b[1;31mAttributeError\u001b[0m: 'NoneType' object has no attribute 'find'"
     ]
    }
   ],
   "source": [
    "parse_dict(\"https://www.liquorama.net/apertifs-digestives-vermouths/?sort=featured&page=5\")"
   ]
  },
  {
   "cell_type": "code",
   "execution_count": 79,
   "metadata": {},
   "outputs": [],
   "source": [
    "##### HOW CAN I ADD ANOTHER ELEMENT WITHOUT SCARIFICING TIME AND MEMORY?"
   ]
  },
  {
   "cell_type": "code",
   "execution_count": null,
   "metadata": {},
   "outputs": [],
   "source": []
  },
  {
   "cell_type": "code",
   "execution_count": null,
   "metadata": {},
   "outputs": [],
   "source": []
  },
  {
   "cell_type": "code",
   "execution_count": 82,
   "metadata": {},
   "outputs": [],
   "source": []
  },
  {
   "cell_type": "code",
   "execution_count": 84,
   "metadata": {},
   "outputs": [],
   "source": [
    "\n",
    "\n"
   ]
  },
  {
   "cell_type": "code",
   "execution_count": 77,
   "metadata": {},
   "outputs": [
    {
     "data": {
      "text/plain": [
       "[]"
      ]
     },
     "execution_count": 77,
     "metadata": {},
     "output_type": "execute_result"
    }
   ],
   "source": []
  },
  {
   "cell_type": "code",
   "execution_count": null,
   "metadata": {},
   "outputs": [],
   "source": []
  },
  {
   "cell_type": "code",
   "execution_count": null,
   "metadata": {},
   "outputs": [],
   "source": []
  },
  {
   "cell_type": "code",
   "execution_count": null,
   "metadata": {},
   "outputs": [],
   "source": []
  },
  {
   "cell_type": "code",
   "execution_count": null,
   "metadata": {},
   "outputs": [],
   "source": [
    "##### triunfando en OOP"
   ]
  },
  {
   "cell_type": "code",
   "execution_count": 95,
   "metadata": {},
   "outputs": [],
   "source": [
    "class Scraper:\n",
    "    \n",
    "    def __init__(self, url):\n",
    "        self.url= url\n",
    "        \n",
    "    def getsoup(self):\n",
    "        r = requests.get(self.url)\n",
    "        r.encoding = 'UTF-8'\n",
    "        return BeautifulSoup(r.text,'lxml', parse_only = only_divs) \n",
    "         \n",
    "    \n",
    "#### Parse the prices of spirits (Why did the results are duplicate?)\n",
    "    def scrape_prices(self):\n",
    "        soup = getsoup()\n",
    "        prices = soup.find('span', {'class':'price price--withoutTax'}).text\n",
    "        return prices\n",
    "    \n",
    "#### Parse the list name \n",
    "    def scrape_name(self):\n",
    "        soup = getsoup(self)\n",
    "        return soup.find('h1', {'class':'productView-title'}).text\n",
    "    \n",
    "            \n",
    "    def scrape_dict(self):\n",
    "        soupArr = []\n",
    "        \n",
    "        soupObject = {\n",
    "                \"name\":getsoup(self).find('h1', {'class':'productView-title'}),\n",
    "                \"price\":getsoup(self).find('span', {'class':'price price--withoutTax'}),\n",
    "                \"SKU\":getsoup(self).find('dd', {'class':'productView-info-value'}),\n",
    "                \"UPC\":getsoup(self).find('dd', {'class':'productView-info-value'})\n",
    "        }\n",
    "        soupArr.append(soupObject)\n",
    "        return soupArr"
   ]
  },
  {
   "cell_type": "code",
   "execution_count": 21,
   "metadata": {},
   "outputs": [
    {
     "ename": "NameError",
     "evalue": "name 'getsoup' is not defined",
     "output_type": "error",
     "traceback": [
      "\u001b[1;31m---------------------------------------------------------------------------\u001b[0m",
      "\u001b[1;31mNameError\u001b[0m                                 Traceback (most recent call last)",
      "\u001b[1;32m<ipython-input-21-ed6b889167a2>\u001b[0m in \u001b[0;36m<module>\u001b[1;34m\u001b[0m\n\u001b[0;32m      1\u001b[0m \u001b[0mtest\u001b[0m \u001b[1;33m=\u001b[0m \u001b[0mScraper\u001b[0m\u001b[1;33m(\u001b[0m\u001b[1;34m\"https://www.liquorama.net/aperol-orange-aperitif-750ml.html\"\u001b[0m\u001b[1;33m)\u001b[0m\u001b[1;33m\u001b[0m\u001b[1;33m\u001b[0m\u001b[0m\n\u001b[1;32m----> 2\u001b[1;33m \u001b[0mtest\u001b[0m\u001b[1;33m.\u001b[0m\u001b[0mscrape_prices\u001b[0m\u001b[1;33m(\u001b[0m\u001b[1;33m)\u001b[0m\u001b[1;33m\u001b[0m\u001b[1;33m\u001b[0m\u001b[0m\n\u001b[0m",
      "\u001b[1;32m<ipython-input-20-6504c6d780cf>\u001b[0m in \u001b[0;36mscrape_prices\u001b[1;34m(self)\u001b[0m\n\u001b[0;32m     15\u001b[0m \u001b[1;31m#### Parse the prices of spirits (Why did the results are duplicate?)\u001b[0m\u001b[1;33m\u001b[0m\u001b[1;33m\u001b[0m\u001b[1;33m\u001b[0m\u001b[0m\n\u001b[0;32m     16\u001b[0m     \u001b[1;32mdef\u001b[0m \u001b[0mscrape_prices\u001b[0m\u001b[1;33m(\u001b[0m\u001b[0mself\u001b[0m\u001b[1;33m)\u001b[0m\u001b[1;33m:\u001b[0m\u001b[1;33m\u001b[0m\u001b[1;33m\u001b[0m\u001b[0m\n\u001b[1;32m---> 17\u001b[1;33m         \u001b[0msoup\u001b[0m \u001b[1;33m=\u001b[0m \u001b[0mgetsoup\u001b[0m\u001b[1;33m(\u001b[0m\u001b[1;33m)\u001b[0m\u001b[1;33m\u001b[0m\u001b[1;33m\u001b[0m\u001b[0m\n\u001b[0m\u001b[0;32m     18\u001b[0m         \u001b[0mprices\u001b[0m \u001b[1;33m=\u001b[0m \u001b[0msoup\u001b[0m\u001b[1;33m.\u001b[0m\u001b[0mfind\u001b[0m\u001b[1;33m(\u001b[0m\u001b[1;34m'span'\u001b[0m\u001b[1;33m,\u001b[0m \u001b[1;33m{\u001b[0m\u001b[1;34m'class'\u001b[0m\u001b[1;33m:\u001b[0m\u001b[1;34m'price price--withoutTax'\u001b[0m\u001b[1;33m}\u001b[0m\u001b[1;33m)\u001b[0m\u001b[1;33m.\u001b[0m\u001b[0mtext\u001b[0m\u001b[1;33m\u001b[0m\u001b[1;33m\u001b[0m\u001b[0m\n\u001b[0;32m     19\u001b[0m         \u001b[1;32mreturn\u001b[0m \u001b[0mprices\u001b[0m\u001b[1;33m\u001b[0m\u001b[1;33m\u001b[0m\u001b[0m\n",
      "\u001b[1;31mNameError\u001b[0m: name 'getsoup' is not defined"
     ]
    }
   ],
   "source": [
    "test = Scraper(\"https://www.liquorama.net/aperol-orange-aperitif-750ml.html\")\n",
    "test.scrape_prices()"
   ]
  },
  {
   "cell_type": "code",
   "execution_count": null,
   "metadata": {},
   "outputs": [],
   "source": []
  },
  {
   "cell_type": "code",
   "execution_count": null,
   "metadata": {},
   "outputs": [],
   "source": []
  },
  {
   "cell_type": "code",
   "execution_count": null,
   "metadata": {},
   "outputs": [],
   "source": []
  },
  {
   "cell_type": "code",
   "execution_count": null,
   "metadata": {},
   "outputs": [],
   "source": []
  },
  {
   "cell_type": "code",
   "execution_count": null,
   "metadata": {},
   "outputs": [],
   "source": []
  },
  {
   "cell_type": "code",
   "execution_count": null,
   "metadata": {},
   "outputs": [],
   "source": []
  },
  {
   "cell_type": "code",
   "execution_count": null,
   "metadata": {},
   "outputs": [],
   "source": []
  },
  {
   "cell_type": "code",
   "execution_count": null,
   "metadata": {},
   "outputs": [],
   "source": []
  },
  {
   "cell_type": "code",
   "execution_count": null,
   "metadata": {},
   "outputs": [],
   "source": []
  },
  {
   "cell_type": "code",
   "execution_count": 237,
   "metadata": {},
   "outputs": [],
   "source": []
  },
  {
   "cell_type": "code",
   "execution_count": null,
   "metadata": {},
   "outputs": [],
   "source": []
  },
  {
   "cell_type": "code",
   "execution_count": null,
   "metadata": {},
   "outputs": [],
   "source": []
  },
  {
   "cell_type": "code",
   "execution_count": null,
   "metadata": {},
   "outputs": [],
   "source": []
  },
  {
   "cell_type": "code",
   "execution_count": null,
   "metadata": {},
   "outputs": [],
   "source": [
    "         \n",
    "    \n"
   ]
  },
  {
   "cell_type": "code",
   "execution_count": null,
   "metadata": {},
   "outputs": [],
   "source": []
  },
  {
   "cell_type": "code",
   "execution_count": null,
   "metadata": {},
   "outputs": [],
   "source": []
  },
  {
   "cell_type": "raw",
   "metadata": {},
   "source": []
  },
  {
   "cell_type": "code",
   "execution_count": null,
   "metadata": {},
   "outputs": [],
   "source": []
  },
  {
   "cell_type": "code",
   "execution_count": null,
   "metadata": {},
   "outputs": [],
   "source": []
  },
  {
   "cell_type": "code",
   "execution_count": null,
   "metadata": {},
   "outputs": [],
   "source": []
  },
  {
   "cell_type": "code",
   "execution_count": null,
   "metadata": {},
   "outputs": [],
   "source": []
  },
  {
   "cell_type": "code",
   "execution_count": 318,
   "metadata": {},
   "outputs": [],
   "source": []
  },
  {
   "cell_type": "code",
   "execution_count": 319,
   "metadata": {},
   "outputs": [],
   "source": []
  },
  {
   "cell_type": "code",
   "execution_count": null,
   "metadata": {
    "scrolled": true
   },
   "outputs": [],
   "source": []
  },
  {
   "cell_type": "code",
   "execution_count": 202,
   "metadata": {},
   "outputs": [],
   "source": [
    "##### parte 3 #### "
   ]
  },
  {
   "cell_type": "code",
   "execution_count": 207,
   "metadata": {},
   "outputs": [],
   "source": [
    "whisky = []\n",
    "for i in range (1,4):\n",
    "    whisky.append(\"https://uptownspirits.com/shop/liquor/whiskey/page/\"+ str(i) +\"/?product_count=144\")"
   ]
  },
  {
   "cell_type": "code",
   "execution_count": 208,
   "metadata": {},
   "outputs": [
    {
     "data": {
      "text/plain": [
       "['https://uptownspirits.com/shop/liquor/whiskey/page/1/?product_count=144',\n",
       " 'https://uptownspirits.com/shop/liquor/whiskey/page/2/?product_count=144',\n",
       " 'https://uptownspirits.com/shop/liquor/whiskey/page/3/?product_count=144']"
      ]
     },
     "execution_count": 208,
     "metadata": {},
     "output_type": "execute_result"
    }
   ],
   "source": [
    "whisky"
   ]
  },
  {
   "cell_type": "code",
   "execution_count": 209,
   "metadata": {},
   "outputs": [],
   "source": [
    "def ParseName(link):\n",
    "    soup = GetSoup(link)\n",
    "    return soup.find('h1', attrs={'class':'product_title entry-title'}).text"
   ]
  },
  {
   "cell_type": "code",
   "execution_count": 211,
   "metadata": {},
   "outputs": [],
   "source": [
    "def ParsePrice(link):\n",
    "    soup = GetSoup(link)\n",
    "    return soup.find('span', attrs={'class':'woocommerce-Price-amount amount'}).text"
   ]
  },
  {
   "cell_type": "code",
   "execution_count": 220,
   "metadata": {},
   "outputs": [],
   "source": [
    "def ParseSKU(link):\n",
    "    soup = GetSoup(link)\n",
    "    return soup.find('span', attrs={'class':'sku'}).text"
   ]
  },
  {
   "cell_type": "code",
   "execution_count": 264,
   "metadata": {},
   "outputs": [],
   "source": [
    "def ParseWeight(link):\n",
    "    soup = GetSoup(link)\n",
    "    el = soup.find('tr', attrs={'class':'woocommerce-product-attributes-item woocommerce-product-attributes-item--weight'}).text\n",
    "    return el.replace('Weight', '')"
   ]
  },
  {
   "cell_type": "code",
   "execution_count": null,
   "metadata": {},
   "outputs": [],
   "source": [
    "def ParseBrand(link):\n",
    "    soup = GetSoup(link)\n",
    "        return soup.find('tr', attrs={'class':'woocommerce-product-attributes-item woocommerce-product-attributes-item--attribute_pa_brand'}).text"
   ]
  },
  {
   "cell_type": "code",
   "execution_count": 262,
   "metadata": {},
   "outputs": [],
   "source": [
    "def ParseAlcType(link):\n",
    "    soup = GetSoup(link)\n",
    "    el = soup.find('tr', attrs={'class':'woocommerce-product-attributes-item woocommerce-product-attributes-item--attribute_pa_alcohol-type'}).text\n",
    "    return el.replace('Alcohol Type', \"\")"
   ]
  },
  {
   "cell_type": "code",
   "execution_count": null,
   "metadata": {},
   "outputs": [],
   "source": []
  },
  {
   "cell_type": "code",
   "execution_count": 239,
   "metadata": {},
   "outputs": [],
   "source": [
    "def Class(link):   ##### Quitar\n",
    "    soup = GetSoup(link)\n",
    "    return soup.find('tr', attrs={'class':'\"woocommerce-product-attributes-item woocommerce-product-attributes-item--attribute_pa_class\"'}).text"
   ]
  },
  {
   "cell_type": "code",
   "execution_count": null,
   "metadata": {},
   "outputs": [],
   "source": []
  },
  {
   "cell_type": "code",
   "execution_count": 259,
   "metadata": {},
   "outputs": [],
   "source": [
    "def Region(link):\n",
    "    soup = GetSoup(link)\n",
    "    el = soup.find('tr', attrs={'class':'woocommerce-product-attributes-item woocommerce-product-attributes-item--attribute_pa_region'}).text\n",
    "    return el.replace(\"Region\",\"\")"
   ]
  },
  {
   "cell_type": "code",
   "execution_count": 268,
   "metadata": {},
   "outputs": [],
   "source": [
    "def Proof(link):\n",
    "    soup = GetSoup(link)\n",
    "    el = soup.find('tr', attrs={'class':'woocommerce-product-attributes-item woocommerce-product-attributes-item--attribute_pa_proof'}).text\n",
    "    return el.replace('Proof','')"
   ]
  },
  {
   "cell_type": "code",
   "execution_count": 229,
   "metadata": {},
   "outputs": [],
   "source": [
    "def Availability(link):\n",
    "    soup = GetSoup(link)\n",
    "    return soup.find('div', attrs={'class':'avada-availability'}).text"
   ]
  },
  {
   "cell_type": "code",
   "execution_count": null,
   "metadata": {},
   "outputs": [],
   "source": []
  },
  {
   "cell_type": "code",
   "execution_count": 240,
   "metadata": {},
   "outputs": [
    {
     "ename": "AttributeError",
     "evalue": "'NoneType' object has no attribute 'text'",
     "output_type": "error",
     "traceback": [
      "\u001b[1;31m---------------------------------------------------------------------------\u001b[0m",
      "\u001b[1;31mAttributeError\u001b[0m                            Traceback (most recent call last)",
      "\u001b[1;32m<ipython-input-240-925533a5793c>\u001b[0m in \u001b[0;36m<module>\u001b[1;34m\u001b[0m\n\u001b[1;32m----> 1\u001b[1;33m \u001b[0mClass\u001b[0m\u001b[1;33m(\u001b[0m\u001b[1;34m\"https://uptownspirits.com/product/liquor/gin/empress-1908-gin-750ml/\"\u001b[0m\u001b[1;33m)\u001b[0m\u001b[1;33m\u001b[0m\u001b[1;33m\u001b[0m\u001b[0m\n\u001b[0m",
      "\u001b[1;32m<ipython-input-239-bb0e955325ef>\u001b[0m in \u001b[0;36mClass\u001b[1;34m(link)\u001b[0m\n\u001b[0;32m      1\u001b[0m \u001b[1;32mdef\u001b[0m \u001b[0mClass\u001b[0m\u001b[1;33m(\u001b[0m\u001b[0mlink\u001b[0m\u001b[1;33m)\u001b[0m\u001b[1;33m:\u001b[0m\u001b[1;33m\u001b[0m\u001b[1;33m\u001b[0m\u001b[0m\n\u001b[0;32m      2\u001b[0m     \u001b[0msoup\u001b[0m \u001b[1;33m=\u001b[0m \u001b[0mGetSoup\u001b[0m\u001b[1;33m(\u001b[0m\u001b[0mlink\u001b[0m\u001b[1;33m)\u001b[0m\u001b[1;33m\u001b[0m\u001b[1;33m\u001b[0m\u001b[0m\n\u001b[1;32m----> 3\u001b[1;33m     \u001b[1;32mreturn\u001b[0m \u001b[0msoup\u001b[0m\u001b[1;33m.\u001b[0m\u001b[0mfind\u001b[0m\u001b[1;33m(\u001b[0m\u001b[1;34m'tr'\u001b[0m\u001b[1;33m,\u001b[0m \u001b[0mattrs\u001b[0m\u001b[1;33m=\u001b[0m\u001b[1;33m{\u001b[0m\u001b[1;34m'class'\u001b[0m\u001b[1;33m:\u001b[0m\u001b[1;34m'\"woocommerce-product-attributes-item woocommerce-product-attributes-item--attribute_pa_class\"'\u001b[0m\u001b[1;33m}\u001b[0m\u001b[1;33m)\u001b[0m\u001b[1;33m.\u001b[0m\u001b[0mtext\u001b[0m\u001b[1;33m\u001b[0m\u001b[1;33m\u001b[0m\u001b[0m\n\u001b[0m",
      "\u001b[1;31mAttributeError\u001b[0m: 'NoneType' object has no attribute 'text'"
     ]
    }
   ],
   "source": [
    "Class(\"https://uptownspirits.com/product/liquor/gin/empress-1908-gin-750ml/\")"
   ]
  },
  {
   "cell_type": "code",
   "execution_count": 232,
   "metadata": {},
   "outputs": [
    {
     "data": {
      "text/plain": [
       "'Out of stock'"
      ]
     },
     "execution_count": 232,
     "metadata": {},
     "output_type": "execute_result"
    }
   ],
   "source": [
    "Availability(\"https://uptownspirits.com/product/liquor/whiskey/rare-whiskey/bookers-little-book-noe-simple-task-chapter-2-whiskey/\")"
   ]
  },
  {
   "cell_type": "code",
   "execution_count": 265,
   "metadata": {},
   "outputs": [
    {
     "data": {
      "text/plain": [
       "'3.5 lbs'"
      ]
     },
     "execution_count": 265,
     "metadata": {},
     "output_type": "execute_result"
    }
   ],
   "source": [
    "ParseWeight(\"https://uptownspirits.com/product/liquor/whiskey/rare-whiskey/bookers-little-book-noe-simple-task-chapter-2-whiskey/\")"
   ]
  },
  {
   "cell_type": "code",
   "execution_count": 263,
   "metadata": {},
   "outputs": [
    {
     "data": {
      "text/plain": [
       "'Whiskey'"
      ]
     },
     "execution_count": 263,
     "metadata": {},
     "output_type": "execute_result"
    }
   ],
   "source": [
    "ParseAlcType(\"https://uptownspirits.com/product/liquor/whiskey/rare-whiskey/bookers-little-book-noe-simple-task-chapter-2-whiskey/\")"
   ]
  },
  {
   "cell_type": "code",
   "execution_count": 243,
   "metadata": {},
   "outputs": [
    {
     "data": {
      "text/plain": [
       "'080686011231'"
      ]
     },
     "execution_count": 243,
     "metadata": {},
     "output_type": "execute_result"
    }
   ],
   "source": [
    "ParseSKU(\"https://uptownspirits.com/product/liquor/whiskey/rare-whiskey/bookers-little-book-noe-simple-task-chapter-2-whiskey/\")"
   ]
  },
  {
   "cell_type": "code",
   "execution_count": 244,
   "metadata": {},
   "outputs": [
    {
     "data": {
      "text/plain": [
       "'Bookers Little Book Noe Simple Task Chapter 2 Whiskey'"
      ]
     },
     "execution_count": 244,
     "metadata": {},
     "output_type": "execute_result"
    }
   ],
   "source": [
    "ParseName(\"https://uptownspirits.com/product/liquor/whiskey/rare-whiskey/bookers-little-book-noe-simple-task-chapter-2-whiskey/\")"
   ]
  },
  {
   "cell_type": "code",
   "execution_count": 245,
   "metadata": {},
   "outputs": [
    {
     "data": {
      "text/plain": [
       "'$99.95'"
      ]
     },
     "execution_count": 245,
     "metadata": {},
     "output_type": "execute_result"
    }
   ],
   "source": [
    "ParsePrice(\"https://uptownspirits.com/product/liquor/whiskey/rare-whiskey/bookers-little-book-noe-simple-task-chapter-2-whiskey/\")"
   ]
  },
  {
   "cell_type": "code",
   "execution_count": 260,
   "metadata": {},
   "outputs": [
    {
     "data": {
      "text/plain": [
       "'America'"
      ]
     },
     "execution_count": 260,
     "metadata": {},
     "output_type": "execute_result"
    }
   ],
   "source": [
    "Region(\"https://uptownspirits.com/product/liquor/whiskey/rare-whiskey/bookers-little-book-noe-simple-task-chapter-2-whiskey/\")"
   ]
  },
  {
   "cell_type": "code",
   "execution_count": 269,
   "metadata": {},
   "outputs": [
    {
     "data": {
      "text/plain": [
       "'118.8 '"
      ]
     },
     "execution_count": 269,
     "metadata": {},
     "output_type": "execute_result"
    }
   ],
   "source": [
    "Proof(\"https://uptownspirits.com/product/liquor/whiskey/rare-whiskey/bookers-little-book-noe-simple-task-chapter-2-whiskey/\")"
   ]
  },
  {
   "cell_type": "code",
   "execution_count": null,
   "metadata": {},
   "outputs": [],
   "source": []
  }
 ],
 "metadata": {
  "kernelspec": {
   "display_name": "Python 3",
   "language": "python",
   "name": "python3"
  },
  "language_info": {
   "codemirror_mode": {
    "name": "ipython",
    "version": 3
   },
   "file_extension": ".py",
   "mimetype": "text/x-python",
   "name": "python",
   "nbconvert_exporter": "python",
   "pygments_lexer": "ipython3",
   "version": "3.7.1"
  }
 },
 "nbformat": 4,
 "nbformat_minor": 2
}
