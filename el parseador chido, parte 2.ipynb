{
 "cells": [
  {
   "cell_type": "code",
   "execution_count": 1,
   "metadata": {},
   "outputs": [],
   "source": [
    "# The purpose of the following project is to get some insight on spirit prices. \n",
    "# This notebook contains a parser whose main objecetive is to parse the data from \"liquorama\", an online brewery\n",
    "# store from California. This script will extract information about their beer listings and obtain data regarding characteristics\n",
    "# such as price, brand, reviews ETCETERA. It will store the resulting objects into a JSON dictionary that will be transformed\n",
    "# in a pandas dataframe in \n",
    "\n",
    "\n",
    "#First it will import the required libraries in order to scrape the data succesfully"
   ]
  },
  {
   "cell_type": "code",
   "execution_count": 2,
   "metadata": {},
   "outputs": [],
   "source": [
    "import numpy as np\n",
    "import pandas as pd\n",
    "import requests\n",
    "from bs4 import BeautifulSoup, SoupStrainer\n",
    "from urllib.request import urlopen, Request\n",
    "import json"
   ]
  },
  {
   "cell_type": "code",
   "execution_count": 3,
   "metadata": {},
   "outputs": [
    {
     "name": "stdout",
     "output_type": "stream",
     "text": [
      "User-agent: *\r\n",
      "Disallow: /search.php\n",
      "User-agent: *\n",
      "Disallow: /*?_bc_fsnf=1*\n",
      "Disallow: /*&_bc_fsnf=1*\n",
      "\n"
     ]
    }
   ],
   "source": [
    "print(requests.get(\"https://www.liquorama.net/robots.txt\").text)"
   ]
  },
  {
   "cell_type": "code",
   "execution_count": null,
   "metadata": {},
   "outputs": [],
   "source": [
    "#The connection to the website was succesful and allows for scraping"
   ]
  },
  {
   "cell_type": "code",
   "execution_count": null,
   "metadata": {},
   "outputs": [],
   "source": [
    "################################################\n",
    "\n",
    "# Disallow: /?_bc_fsnf=1 — This blocks bots from following faceted search links and causing performance issues.\n",
    "\n",
    "# Disallow: /&_bc_fsnf=1 — This blocks bots from following faceted search links and causing performance issues.\n",
    "\n",
    "# Disallow: /search.php — This page handles searches from the search box on a store. Google has previously stated \n",
    "#                        that search results pages are not something they want in their index because it creates a poor \n",
    "#                        user experience (going from a search results page to another search results page instead of going \n",
    "#                        directly to the result).\n",
    "#\n",
    "#\n",
    "# Source: Big Commerce (Help Center), \"Understanding the Robots.txt file\", \n",
    "# https://support.bigcommerce.com/s/article/Understanding-the-Robots-txt-File\n",
    "################################################"
   ]
  },
  {
   "cell_type": "code",
   "execution_count": null,
   "metadata": {},
   "outputs": [],
   "source": [
    "# The purpose of this scraper is to get the general information of Liquorama's beer listing. The online store has a 21 page listing \n",
    "# of beers for different size, price, country of origin, reviews and type. \n",
    "\n",
    "# Firstly, we need the complete set of links in an object for further parsing."
   ]
  },
  {
   "cell_type": "code",
   "execution_count": 96,
   "metadata": {},
   "outputs": [],
   "source": [
    "def GetSoup(link):\n",
    "        r = requests.get(link)\n",
    "        r.encoding = 'UTF-8'\n",
    "        return BeautifulSoup(r.text,'lxml')\n",
    "    "
   ]
  },
  {
   "cell_type": "code",
   "execution_count": 303,
   "metadata": {},
   "outputs": [],
   "source": [
    "def GetLinks(link):                     \n",
    "    soup = GetSoup(link)\n",
    "    l = []\n",
    "    for link in soup.findAll('a', attrs={\"class\":\"product-images\"}):\n",
    "        l.append(link.get('href'))\n",
    "    return l"
   ]
  },
  {
   "cell_type": "code",
   "execution_count": 304,
   "metadata": {},
   "outputs": [],
   "source": [
    "booze = GetLinks(\"https://uptownspirits.com/shop/liquor/?product_count=48\")"
   ]
  },
  {
   "cell_type": "code",
   "execution_count": 136,
   "metadata": {},
   "outputs": [],
   "source": [
    "sites = []\n",
    "for cat in categories: \n",
    "       for i in range (1,7):\n",
    "        sites.append(cat + \"?sort=featured&page=\" + str(i))"
   ]
  },
  {
   "cell_type": "code",
   "execution_count": 307,
   "metadata": {},
   "outputs": [],
   "source": [
    "prueba = booze[:10]"
   ]
  },
  {
   "cell_type": "code",
   "execution_count": 366,
   "metadata": {},
   "outputs": [
    {
     "data": {
      "text/plain": [
       "['https://uptownspirits.com/product/liquor/whiskey/american-whiskey/skrewball-peanut-butter-whiskey-750ml/',\n",
       " 'https://uptownspirits.com/product/liquor/whiskey/bourbon-whiskey/e-h-taylor-small-batch-bourbon-whiskey/',\n",
       " 'https://uptownspirits.com/product/liquor/whiskey/eagle-rare-bourbon-whiskey-750ml/',\n",
       " 'https://uptownspirits.com/product/liquor/liqueur/pennsylvania-dutch-egg-nog-750ml/',\n",
       " 'https://uptownspirits.com/product/liquor/whiskey/buffalo-trace-bourbon-whiskey-750ml/',\n",
       " 'https://uptownspirits.com/product/liquor/whiskey/rye-whiskey/willett-family-estate-bottled-4-year-rye-750ml/',\n",
       " 'https://uptownspirits.com/product/liquor/gin/empress-1908-gin-750ml/',\n",
       " 'https://uptownspirits.com/product/liquor/whiskey/bourbon-whiskey/blantons-single-barrel-bourbon-750ml/',\n",
       " 'https://uptownspirits.com/product/liquor/whiskey/sazerac-rye-whiskey-750ml/',\n",
       " 'https://uptownspirits.com/product/liquor/tequila/reposado/tequila-clase-azul-reposado-750ml/',\n",
       " 'https://uptownspirits.com/product/liquor/tequila/extra-anejo/cava-de-oro-extra-anejo-tequila-750ml/',\n",
       " 'https://uptownspirits.com/product/liquor/whiskey/bourbon-whiskey/woodford-reserve-2019-20th-anniversary-kentucky-derby-bourbon-whiskey/',\n",
       " 'https://uptownspirits.com/product/liquor/tequila/puerto-vallarta-gold-tequila-750ml/',\n",
       " 'https://uptownspirits.com/product/liquor/whiskey/american-whiskey/michters-american-whiskey-750ml/',\n",
       " 'https://uptownspirits.com/product/liquor/liqueur/buffalo-trace-bourbon-cream-liqueur-750ml/',\n",
       " 'https://uptownspirits.com/product/liquor/vodka/flavored-vodka/ciroc-summer-watermelon-vodka/',\n",
       " 'https://uptownspirits.com/product/liquor/whiskey/bourbon-whiskey/four-roses-single-barrel-straight-bourbon-whiskey-750ml/',\n",
       " 'https://uptownspirits.com/product/liquor/whiskey/bourbon-whiskey/willett-pot-still-reserve-small-batch-bourbon-whiskey/',\n",
       " 'https://uptownspirits.com/product/liquor/rum/bumbu-xo-rum/',\n",
       " 'https://uptownspirits.com/product/liquor/whiskey/bourbon-whiskey/weller-special-reserve-bourbon-whiskey-750ml/',\n",
       " 'https://uptownspirits.com/product/liquor/whiskey/irish-whiskey/proper-no-twelve-irish-whiskey-750ml/',\n",
       " 'https://uptownspirits.com/product/liquor/whiskey/bourbon-whiskey/old-weller-antique-107-bourbon-whiskey-750ml/',\n",
       " 'https://uptownspirits.com/product/liquor/cognac/rare-cognac/remy-martin-just-remy-limited-edition-1738-sneaker-box/',\n",
       " 'https://uptownspirits.com/product/liquor/whiskey/rye-whiskey/angels-envy-caribbean-rum-cask-finish-rye-whiskey/',\n",
       " 'https://uptownspirits.com/product/liquor/whiskey/bourbon-whiskey/four-roses-small-batch-select-bourbon-whiskey/',\n",
       " 'https://uptownspirits.com/product/liquor/whiskey/bourbon-whiskey/mb-roland-kentucky-straight-bourbon-whiskey-750ml/',\n",
       " 'https://uptownspirits.com/product/liquor/rum/bumbu-rum-co-original-750ml/',\n",
       " 'https://uptownspirits.com/product/liquor/whiskey/bourbon-whiskey/henry-mckenna-10-year-old-bourbon-whiskey-750ml/',\n",
       " 'https://uptownspirits.com/product/liquor/whiskey/canadian-whiskey/crown-royal-peach-whiskey/',\n",
       " 'https://uptownspirits.com/product/liquor/scotch/johnnie-walker-white-walker/',\n",
       " 'https://uptownspirits.com/product/liquor/whiskey/bourbon-whiskey/rebel-yell-10-year-single-barrel-bourbon-whiskey/',\n",
       " 'https://uptownspirits.com/product/liquor/whiskey/bourbon-whiskey/buffalo-trace-bourbon-whiskey-shot-50ml/',\n",
       " 'https://uptownspirits.com/product/liquor/whiskey/japanese-whiskey/hibiki-japanese-harmony-special-edition-whiskey/',\n",
       " 'https://uptownspirits.com/product/liquor/tequila/extra-anejo/dos-artes-limited-edition-extra-anejo/',\n",
       " 'https://uptownspirits.com/product/liquor/whiskey/bourbon-whiskey/jim-beam-bourbon-whiskey-750ml/',\n",
       " 'https://uptownspirits.com/product/liquor/whiskey/rye-whiskey/high-west-a-midwinter-nights-dram-a6s6-750ml/',\n",
       " 'https://uptownspirits.com/product/liquor/tequila/anejo/fortaleza-anejo-tequila-750ml/',\n",
       " 'https://uptownspirits.com/product/liquor/tequila/sauza-gold-tequila-750ml/',\n",
       " 'https://uptownspirits.com/product/liquor/vodka/titos-vodka-750ml/',\n",
       " 'https://uptownspirits.com/product/liquor/whiskey/hibiki-japanese-harmony-whisky-750ml/',\n",
       " 'https://uptownspirits.com/product/liquor/whiskey/bourbon-whiskey/larceny-bourbon-whiskey-92-proof-750ml/',\n",
       " 'https://uptownspirits.com/product/liquor/whiskey/american-whiskey/blackened-american-metallica-whiskey-750ml/',\n",
       " 'https://uptownspirits.com/product/liquor/whiskey/japanese-whiskey/nikka-from-the-barrel-whiskey-750ml/',\n",
       " 'https://uptownspirits.com/product/liquor/tequila/extra-anejo/adictivo-extra-anejo-tequila-750ml/',\n",
       " 'https://uptownspirits.com/product/liquor/whiskey/bourbon-whiskey/old-ezra-7-year-bourbon-whiskey-750ml/',\n",
       " 'https://uptownspirits.com/product/liquor/whiskey/japanese-whiskey/yamazaki-12-year-single-malt-japanese-whiskey-750ml/',\n",
       " 'https://uptownspirits.com/product/liquor/whiskey/bourbon-whiskey/rock-hill-farms-bourbon-whiskey-750ml/',\n",
       " 'https://uptownspirits.com/product/liquor/whiskey/bourbon-whiskey/angels-envy-port-barrel-finished-bourbon-whiskey/']"
      ]
     },
     "execution_count": 366,
     "metadata": {},
     "output_type": "execute_result"
    }
   ],
   "source": [
    "booze"
   ]
  },
  {
   "cell_type": "code",
   "execution_count": null,
   "metadata": {},
   "outputs": [],
   "source": []
  },
  {
   "cell_type": "code",
   "execution_count": null,
   "metadata": {},
   "outputs": [],
   "source": []
  },
  {
   "cell_type": "code",
   "execution_count": 6,
   "metadata": {},
   "outputs": [],
   "source": []
  },
  {
   "cell_type": "code",
   "execution_count": null,
   "metadata": {},
   "outputs": [],
   "source": []
  },
  {
   "cell_type": "code",
   "execution_count": null,
   "metadata": {},
   "outputs": [],
   "source": []
  },
  {
   "cell_type": "code",
   "execution_count": null,
   "metadata": {},
   "outputs": [],
   "source": []
  },
  {
   "cell_type": "code",
   "execution_count": null,
   "metadata": {},
   "outputs": [],
   "source": []
  },
  {
   "cell_type": "code",
   "execution_count": null,
   "metadata": {},
   "outputs": [],
   "source": [
    "#Afterwards we must build a function that allows us to convert an html from the website to a BeautifulSoup object (BSO)"
   ]
  },
  {
   "cell_type": "code",
   "execution_count": 200,
   "metadata": {},
   "outputs": [
    {
     "ename": "SyntaxError",
     "evalue": "invalid syntax (<ipython-input-200-347118b84c36>, line 3)",
     "output_type": "error",
     "traceback": [
      "\u001b[1;36m  File \u001b[1;32m\"<ipython-input-200-347118b84c36>\"\u001b[1;36m, line \u001b[1;32m3\u001b[0m\n\u001b[1;33m    return div = soup.find(\"div\", {'class':'card-body purchase-ability withoutTax'})\u001b[0m\n\u001b[1;37m               ^\u001b[0m\n\u001b[1;31mSyntaxError\u001b[0m\u001b[1;31m:\u001b[0m invalid syntax\n"
     ]
    }
   ],
   "source": [
    "def parse_dict(link):\n",
    "    soup = GetSoup(link)\n",
    "    return div = soup.find(\"div\", {'class':'card-body purchase-ability withoutTax'})\n",
    "    return {\n",
    "                \"name\":div.find('h4', {'class':'card-title'}).text,\n",
    "                \"price\":soup.find('span', {'class':'price price--withoutTax'}).text,\n",
    "                \"previous_price\":soup.find('span', {'class':'price price--rrp'}).text,\n",
    "                \"category\":soup.find('h2', {'class':'container-header'}).string\n",
    "                #Change sibling\n",
    "        }"
   ]
  },
  {
   "cell_type": "code",
   "execution_count": 147,
   "metadata": {},
   "outputs": [],
   "source": [
    "l=[]\n",
    "for site in sites:\n",
    "    soupObj = parse_dict(link)\n",
    "    l.append(soupObj)\n",
    "df = pd.DataFrame(l)"
   ]
  },
  {
   "cell_type": "code",
   "execution_count": 199,
   "metadata": {},
   "outputs": [
    {
     "ename": "AttributeError",
     "evalue": "'NoneType' object has no attribute 'find'",
     "output_type": "error",
     "traceback": [
      "\u001b[1;31m---------------------------------------------------------------------------\u001b[0m",
      "\u001b[1;31mAttributeError\u001b[0m                            Traceback (most recent call last)",
      "\u001b[1;32m<ipython-input-199-2c0844af226e>\u001b[0m in \u001b[0;36m<module>\u001b[1;34m\u001b[0m\n\u001b[1;32m----> 1\u001b[1;33m \u001b[0mparse_dict\u001b[0m\u001b[1;33m(\u001b[0m\u001b[1;34m\"https://www.liquorama.net/apertifs-digestives-vermouths/?sort=featured&page=5\"\u001b[0m\u001b[1;33m)\u001b[0m\u001b[1;33m\u001b[0m\u001b[1;33m\u001b[0m\u001b[0m\n\u001b[0m",
      "\u001b[1;32m<ipython-input-198-8947485a2337>\u001b[0m in \u001b[0;36mparse_dict\u001b[1;34m(link)\u001b[0m\n\u001b[0;32m      3\u001b[0m     \u001b[0mdiv\u001b[0m \u001b[1;33m=\u001b[0m \u001b[0msoup\u001b[0m\u001b[1;33m.\u001b[0m\u001b[0mfind\u001b[0m\u001b[1;33m(\u001b[0m\u001b[1;34m\"div\"\u001b[0m\u001b[1;33m,\u001b[0m \u001b[1;33m{\u001b[0m\u001b[1;34m'class'\u001b[0m\u001b[1;33m:\u001b[0m\u001b[1;34m'card-body purchase-ability withoutTax'\u001b[0m\u001b[1;33m}\u001b[0m\u001b[1;33m)\u001b[0m\u001b[1;33m\u001b[0m\u001b[1;33m\u001b[0m\u001b[0m\n\u001b[0;32m      4\u001b[0m     return {\n\u001b[1;32m----> 5\u001b[1;33m                 \u001b[1;34m\"name\"\u001b[0m\u001b[1;33m:\u001b[0m\u001b[0mdiv\u001b[0m\u001b[1;33m.\u001b[0m\u001b[0mfind\u001b[0m\u001b[1;33m(\u001b[0m\u001b[1;34m'h4'\u001b[0m\u001b[1;33m,\u001b[0m \u001b[1;33m{\u001b[0m\u001b[1;34m'class'\u001b[0m\u001b[1;33m:\u001b[0m\u001b[1;34m'card-title'\u001b[0m\u001b[1;33m}\u001b[0m\u001b[1;33m)\u001b[0m\u001b[1;33m.\u001b[0m\u001b[0mtext\u001b[0m\u001b[1;33m,\u001b[0m\u001b[1;33m\u001b[0m\u001b[1;33m\u001b[0m\u001b[0m\n\u001b[0m\u001b[0;32m      6\u001b[0m                 \u001b[1;34m\"price\"\u001b[0m\u001b[1;33m:\u001b[0m\u001b[0msoup\u001b[0m\u001b[1;33m.\u001b[0m\u001b[0mfind\u001b[0m\u001b[1;33m(\u001b[0m\u001b[1;34m'span'\u001b[0m\u001b[1;33m,\u001b[0m \u001b[1;33m{\u001b[0m\u001b[1;34m'class'\u001b[0m\u001b[1;33m:\u001b[0m\u001b[1;34m'price price--withoutTax'\u001b[0m\u001b[1;33m}\u001b[0m\u001b[1;33m)\u001b[0m\u001b[1;33m.\u001b[0m\u001b[0mtext\u001b[0m\u001b[1;33m,\u001b[0m\u001b[1;33m\u001b[0m\u001b[1;33m\u001b[0m\u001b[0m\n\u001b[0;32m      7\u001b[0m                 \u001b[1;34m\"previous_price\"\u001b[0m\u001b[1;33m:\u001b[0m\u001b[0msoup\u001b[0m\u001b[1;33m.\u001b[0m\u001b[0mfind\u001b[0m\u001b[1;33m(\u001b[0m\u001b[1;34m'span'\u001b[0m\u001b[1;33m,\u001b[0m \u001b[1;33m{\u001b[0m\u001b[1;34m'class'\u001b[0m\u001b[1;33m:\u001b[0m\u001b[1;34m'price price--rrp'\u001b[0m\u001b[1;33m}\u001b[0m\u001b[1;33m)\u001b[0m\u001b[1;33m.\u001b[0m\u001b[0mtext\u001b[0m\u001b[1;33m,\u001b[0m\u001b[1;33m\u001b[0m\u001b[1;33m\u001b[0m\u001b[0m\n",
      "\u001b[1;31mAttributeError\u001b[0m: 'NoneType' object has no attribute 'find'"
     ]
    }
   ],
   "source": [
    "parse_dict(\"https://www.liquorama.net/apertifs-digestives-vermouths/?sort=featured&page=5\")"
   ]
  },
  {
   "cell_type": "code",
   "execution_count": 79,
   "metadata": {},
   "outputs": [],
   "source": [
    "##### HOW CAN I ADD ANOTHER ELEMENT WITHOUT SCARIFICING TIME AND MEMORY?"
   ]
  },
  {
   "cell_type": "code",
   "execution_count": null,
   "metadata": {},
   "outputs": [],
   "source": []
  },
  {
   "cell_type": "code",
   "execution_count": null,
   "metadata": {},
   "outputs": [],
   "source": []
  },
  {
   "cell_type": "code",
   "execution_count": 82,
   "metadata": {},
   "outputs": [],
   "source": []
  },
  {
   "cell_type": "code",
   "execution_count": 84,
   "metadata": {},
   "outputs": [],
   "source": [
    "\n",
    "\n"
   ]
  },
  {
   "cell_type": "code",
   "execution_count": 77,
   "metadata": {},
   "outputs": [
    {
     "data": {
      "text/plain": [
       "[]"
      ]
     },
     "execution_count": 77,
     "metadata": {},
     "output_type": "execute_result"
    }
   ],
   "source": []
  },
  {
   "cell_type": "code",
   "execution_count": null,
   "metadata": {},
   "outputs": [],
   "source": []
  },
  {
   "cell_type": "code",
   "execution_count": null,
   "metadata": {},
   "outputs": [],
   "source": []
  },
  {
   "cell_type": "code",
   "execution_count": null,
   "metadata": {},
   "outputs": [],
   "source": []
  },
  {
   "cell_type": "code",
   "execution_count": null,
   "metadata": {},
   "outputs": [],
   "source": [
    "##### triunfando en OOP"
   ]
  },
  {
   "cell_type": "code",
   "execution_count": 342,
   "metadata": {},
   "outputs": [],
   "source": [
    "class Scraper:\n",
    "    \n",
    "    def __init__(self, url):\n",
    "        self.url= url\n",
    "        \n",
    "    def GetSoup(self):\n",
    "        r = requests.get(self.url)\n",
    "        r.encoding = 'UTF-8'\n",
    "        return BeautifulSoup(r.text,'lxml')\n",
    "         \n",
    "    def ParseSKU(self):\n",
    "        soup = GetSoup(self.url)\n",
    "        return soup.find('span', attrs={'class':'sku'}).text\n",
    "    \n",
    "    def ParseName(self):\n",
    "        soup = GetSoup(self.url)\n",
    "        return soup.find('h1', attrs={'class':'product_title entry-title'}).text\n",
    "\n",
    "    def ParsePrice(self):\n",
    "        soup = GetSoup(self.url)\n",
    "        return soup.find('span', attrs={'class':'woocommerce-Price-amount amount'}).text\n",
    "    \n",
    "    def ParseBrand(self):\n",
    "        soup = GetSoup(self.url)\n",
    "        return soup.find('tr', attrs={'class':'woocommerce-product-attributes-item woocommerce-product-attributes-item--attribute_pa_brand'}).text\n",
    "    \n",
    "    def ParseAvailability(self):\n",
    "        soup = GetSoup()\n",
    "        return soup.find('div', attrs={'class':'avada-availability'}).text\n",
    "    \n",
    "    def Region(self):\n",
    "        soup = GetSoup(link)\n",
    "        el = soup.find('tr', attrs={'class':'woocommerce-product-attributes-item woocommerce-product-attributes-item--attribute_pa_region'}).text\n",
    "        return el.replace(\"Region\",\"\")\n",
    "    \n",
    "    def ParseWeight(self):\n",
    "        soup = GetSoup()\n",
    "        el = soup.find('tr', attrs={'class':'woocommerce-product-attributes-item woocommerce-product-attributes-item--weight'}).text\n",
    "        return el.replace('Weight', '')\n",
    "    \n",
    "    \n",
    "            \n"
   ]
  },
  {
   "cell_type": "code",
   "execution_count": 343,
   "metadata": {},
   "outputs": [
    {
     "data": {
      "text/plain": [
       "__main__.Scraper"
      ]
     },
     "execution_count": 343,
     "metadata": {},
     "output_type": "execute_result"
    }
   ],
   "source": [
    "test = Scraper(\"https://uptownspirits.com/product/liquor/whiskey/japanese-whiskey/nikka-from-the-barrel-whiskey-750ml/\")\n",
    "type(test)"
   ]
  },
  {
   "cell_type": "code",
   "execution_count": 338,
   "metadata": {},
   "outputs": [
    {
     "data": {
      "text/plain": [
       "'$119.95'"
      ]
     },
     "execution_count": 338,
     "metadata": {},
     "output_type": "execute_result"
    }
   ],
   "source": [
    "test.ParsePrice()"
   ]
  },
  {
   "cell_type": "code",
   "execution_count": 340,
   "metadata": {},
   "outputs": [
    {
     "data": {
      "text/plain": [
       "'4904230049739'"
      ]
     },
     "execution_count": 340,
     "metadata": {},
     "output_type": "execute_result"
    }
   ],
   "source": [
    "test.ParseSKU()"
   ]
  },
  {
   "cell_type": "code",
   "execution_count": 344,
   "metadata": {},
   "outputs": [
    {
     "data": {
      "text/plain": [
       "'BrandNikka'"
      ]
     },
     "execution_count": 344,
     "metadata": {},
     "output_type": "execute_result"
    }
   ],
   "source": [
    "test.ParseBrand()"
   ]
  },
  {
   "cell_type": "code",
   "execution_count": null,
   "metadata": {},
   "outputs": [],
   "source": []
  },
  {
   "cell_type": "code",
   "execution_count": null,
   "metadata": {},
   "outputs": [],
   "source": []
  },
  {
   "cell_type": "code",
   "execution_count": null,
   "metadata": {},
   "outputs": [],
   "source": []
  },
  {
   "cell_type": "code",
   "execution_count": null,
   "metadata": {},
   "outputs": [],
   "source": []
  },
  {
   "cell_type": "code",
   "execution_count": null,
   "metadata": {},
   "outputs": [],
   "source": []
  },
  {
   "cell_type": "code",
   "execution_count": null,
   "metadata": {},
   "outputs": [],
   "source": []
  },
  {
   "cell_type": "code",
   "execution_count": 237,
   "metadata": {},
   "outputs": [],
   "source": []
  },
  {
   "cell_type": "code",
   "execution_count": null,
   "metadata": {},
   "outputs": [],
   "source": []
  },
  {
   "cell_type": "code",
   "execution_count": null,
   "metadata": {},
   "outputs": [],
   "source": []
  },
  {
   "cell_type": "code",
   "execution_count": null,
   "metadata": {},
   "outputs": [],
   "source": []
  },
  {
   "cell_type": "code",
   "execution_count": null,
   "metadata": {},
   "outputs": [],
   "source": [
    "         \n",
    "    \n"
   ]
  },
  {
   "cell_type": "code",
   "execution_count": null,
   "metadata": {},
   "outputs": [],
   "source": []
  },
  {
   "cell_type": "code",
   "execution_count": null,
   "metadata": {},
   "outputs": [],
   "source": []
  },
  {
   "cell_type": "raw",
   "metadata": {},
   "source": []
  },
  {
   "cell_type": "code",
   "execution_count": null,
   "metadata": {},
   "outputs": [],
   "source": []
  },
  {
   "cell_type": "code",
   "execution_count": null,
   "metadata": {},
   "outputs": [],
   "source": []
  },
  {
   "cell_type": "code",
   "execution_count": null,
   "metadata": {},
   "outputs": [],
   "source": []
  },
  {
   "cell_type": "code",
   "execution_count": null,
   "metadata": {},
   "outputs": [],
   "source": []
  },
  {
   "cell_type": "code",
   "execution_count": 318,
   "metadata": {},
   "outputs": [],
   "source": []
  },
  {
   "cell_type": "code",
   "execution_count": 312,
   "metadata": {},
   "outputs": [
    {
     "data": {
      "text/plain": [
       "['https://uptownspirits.com/product/liquor/whiskey/american-whiskey/skrewball-peanut-butter-whiskey-750ml/',\n",
       " 'https://uptownspirits.com/product/liquor/whiskey/bourbon-whiskey/e-h-taylor-small-batch-bourbon-whiskey/',\n",
       " 'https://uptownspirits.com/product/liquor/whiskey/eagle-rare-bourbon-whiskey-750ml/',\n",
       " 'https://uptownspirits.com/product/liquor/liqueur/pennsylvania-dutch-egg-nog-750ml/',\n",
       " 'https://uptownspirits.com/product/liquor/whiskey/buffalo-trace-bourbon-whiskey-750ml/',\n",
       " 'https://uptownspirits.com/product/liquor/whiskey/rye-whiskey/willett-family-estate-bottled-4-year-rye-750ml/',\n",
       " 'https://uptownspirits.com/product/liquor/gin/empress-1908-gin-750ml/',\n",
       " 'https://uptownspirits.com/product/liquor/whiskey/bourbon-whiskey/blantons-single-barrel-bourbon-750ml/',\n",
       " 'https://uptownspirits.com/product/liquor/whiskey/sazerac-rye-whiskey-750ml/',\n",
       " 'https://uptownspirits.com/product/liquor/tequila/reposado/tequila-clase-azul-reposado-750ml/']"
      ]
     },
     "execution_count": 312,
     "metadata": {},
     "output_type": "execute_result"
    }
   ],
   "source": [
    "prueba"
   ]
  },
  {
   "cell_type": "code",
   "execution_count": null,
   "metadata": {
    "scrolled": true
   },
   "outputs": [],
   "source": []
  },
  {
   "cell_type": "code",
   "execution_count": 202,
   "metadata": {},
   "outputs": [],
   "source": [
    "##### parte 3 #### "
   ]
  },
  {
   "cell_type": "code",
   "execution_count": 207,
   "metadata": {},
   "outputs": [],
   "source": [
    "whisky = []\n",
    "for i in range (1,4):\n",
    "    whisky.append(\"https://uptownspirits.com/shop/liquor/whiskey/page/\"+ str(i) +\"/?product_count=144\")"
   ]
  },
  {
   "cell_type": "code",
   "execution_count": 208,
   "metadata": {},
   "outputs": [
    {
     "data": {
      "text/plain": [
       "['https://uptownspirits.com/shop/liquor/whiskey/page/1/?product_count=144',\n",
       " 'https://uptownspirits.com/shop/liquor/whiskey/page/2/?product_count=144',\n",
       " 'https://uptownspirits.com/shop/liquor/whiskey/page/3/?product_count=144']"
      ]
     },
     "execution_count": 208,
     "metadata": {},
     "output_type": "execute_result"
    }
   ],
   "source": [
    "whisky"
   ]
  },
  {
   "cell_type": "code",
   "execution_count": 367,
   "metadata": {},
   "outputs": [
    {
     "data": {
      "text/plain": [
       "['Skrewball Peanut Butter Whiskey 750ml',\n",
       " 'E.H. Taylor Small Batch Bourbon Whiskey 750ml',\n",
       " 'Eagle Rare Bourbon Whiskey 750ml',\n",
       " 'Pennsylvania Dutch Egg Nog 750ml',\n",
       " 'Buffalo Trace Bourbon Whiskey 750ml',\n",
       " 'Willett Family Estate Bottled 4 Year Rye 750ml',\n",
       " 'Empress 1908 Gin 750ml',\n",
       " 'Blanton’s Single Barrel Bourbon 750ml',\n",
       " 'Sazerac Rye Whiskey 750ml',\n",
       " 'Tequila Clase Azul Reposado 750ml',\n",
       " 'Cava De Oro Extra Anejo Tequila 750ml',\n",
       " 'Woodford Reserve 2019 20th Anniversary Kentucky Derby Bourbon Whiskey',\n",
       " 'Puerto Vallarta Gold Tequila 750ml',\n",
       " 'Michters American Whiskey 750ml',\n",
       " 'Buffalo Trace Bourbon Cream Liqueur 750ml',\n",
       " 'Ciroc Summer Watermelon Vodka',\n",
       " 'Four Roses Single Barrel Straight Bourbon Whiskey 750ml',\n",
       " 'Willett Pot Still Reserve Small Batch Bourbon Whiskey',\n",
       " 'Bumbu XO Rum',\n",
       " 'Weller Special Reserve Bourbon Whiskey 750ml',\n",
       " 'Proper No. Twelve Irish Whiskey 750ml',\n",
       " 'Old Weller Antique 107 Bourbon Whiskey 750ml',\n",
       " 'Remy Martin Just Remy Limited Edition 1738 Sneaker Box',\n",
       " 'Angels Envy Caribbean Rum Cask Finish Rye Whiskey',\n",
       " 'Four Roses Small Batch Select Bourbon Whiskey',\n",
       " 'MB Roland Kentucky Straight Bourbon Whiskey 750ml',\n",
       " 'Bumbu Rum Co Original 750ml',\n",
       " 'Henry McKenna 10 Year Old Bourbon Whiskey 750ml',\n",
       " 'Crown Royal Peach Whiskey',\n",
       " 'Johnnie Walker White Walker',\n",
       " 'Rebel Yell 10 Year Single Barrel Bourbon Whiskey',\n",
       " 'Buffalo Trace Bourbon Whiskey Shot 50ml',\n",
       " 'Hibiki Japanese Harmony Special Edition Whiskey',\n",
       " 'Dos Artes Limited Edition Extra Anejo 1 Liter',\n",
       " 'Jim Beam Bourbon Whiskey 750ml',\n",
       " 'High West A Midwinter Nights Dram A6S6 750ml',\n",
       " 'Fortaleza Anejo Tequila 750ml',\n",
       " 'Sauza Gold Tequila 750ml',\n",
       " 'Titos Vodka 750ml',\n",
       " 'Hibiki Japanese Harmony Whisky 750ml',\n",
       " 'Larceny Bourbon Whiskey 92 Proof 750ml',\n",
       " 'Blackened American Metallica Whiskey 750ml',\n",
       " 'Nikka From The Barrel Whiskey 750ml',\n",
       " 'Adictivo Extra Anejo Tequila 750ml',\n",
       " 'Old Ezra 7 Year Bourbon Whiskey 750ml',\n",
       " 'Yamazaki 12 Year Single Malt Japanese Whiskey 750ml',\n",
       " 'Rock Hill Farms Bourbon Whiskey 750ml',\n",
       " 'Angels Envy Port Barrel Finished Bourbon Whiskey']"
      ]
     },
     "execution_count": 367,
     "metadata": {},
     "output_type": "execute_result"
    }
   ],
   "source": [
    "def ParseName(link):\n",
    "    soup = GetSoup(link)\n",
    "    return soup.find('h1', attrs={'class':'product_title entry-title'}).text\n",
    "[ParseName(link) for link in booze]"
   ]
  },
  {
   "cell_type": "code",
   "execution_count": 368,
   "metadata": {},
   "outputs": [
    {
     "data": {
      "text/plain": [
       "['$24.95',\n",
       " '$49.95',\n",
       " '$33.95',\n",
       " '$9.95',\n",
       " '$24.95',\n",
       " '$59.95',\n",
       " '$29.95',\n",
       " '$139.95',\n",
       " '$27.95',\n",
       " '$84.95',\n",
       " '$84.95',\n",
       " '$54.95',\n",
       " '$10.95',\n",
       " '$33.33',\n",
       " '$18.95',\n",
       " '$26.95',\n",
       " '$49.95',\n",
       " '$49.95',\n",
       " '$38.95',\n",
       " '$59.95',\n",
       " '$24.95',\n",
       " '$109.95',\n",
       " '$59.95',\n",
       " '$88.95',\n",
       " '$59.95',\n",
       " '$49.95',\n",
       " '$34.95',\n",
       " '$39.95',\n",
       " '$49.95',\n",
       " '$34.95',\n",
       " '$69.95',\n",
       " '$3.95',\n",
       " '$249.95',\n",
       " '$144.95',\n",
       " '$16.95',\n",
       " '$129.95',\n",
       " '$89.95',\n",
       " '$11.95',\n",
       " '$19.95',\n",
       " '$99.95',\n",
       " '$29.95',\n",
       " '$44.95',\n",
       " '$119.95',\n",
       " '$88.95',\n",
       " '$59.95',\n",
       " '$199.95',\n",
       " '$149.95',\n",
       " '$49.95']"
      ]
     },
     "execution_count": 368,
     "metadata": {},
     "output_type": "execute_result"
    }
   ],
   "source": [
    "def ParsePrice(link):\n",
    "    soup = GetSoup(link)\n",
    "    el = soup.find('span', attrs={'class':'woocommerce-Price-amount amount'})\n",
    "    return el.text if el else \"NA\"\n",
    "[ParsePrice(link) for link in booze]"
   ]
  },
  {
   "cell_type": "code",
   "execution_count": 369,
   "metadata": {},
   "outputs": [
    {
     "data": {
      "text/plain": [
       "['860265002405',\n",
       " '088004005498',\n",
       " '088004021344',\n",
       " '084380360947',\n",
       " '080244009236',\n",
       " 'NA',\n",
       " '628451773108',\n",
       " 'NA',\n",
       " '088004139940',\n",
       " '081240049516',\n",
       " '002978210062',\n",
       " '081128022280',\n",
       " 'NA',\n",
       " '039383005944',\n",
       " '008024400371',\n",
       " '088076183728',\n",
       " '040063400027',\n",
       " '680203019353',\n",
       " '813497006147',\n",
       " '088004025748',\n",
       " '811538019569',\n",
       " '088004025649',\n",
       " 'NA',\n",
       " '850047003065',\n",
       " 'NA',\n",
       " '853763002244',\n",
       " '813497006109',\n",
       " 'NA',\n",
       " '082000782919',\n",
       " '088076182783',\n",
       " '088352131238',\n",
       " '088004022693',\n",
       " '080686934141',\n",
       " '085834900184',\n",
       " '080686001409',\n",
       " '854396005190',\n",
       " '7502221968105',\n",
       " '080686831013',\n",
       " '619947000020',\n",
       " '080686934073',\n",
       " '096749031559',\n",
       " '752830059290',\n",
       " '4904230049739',\n",
       " '500462214333',\n",
       " '088352133362',\n",
       " '088857001616',\n",
       " '080244006839',\n",
       " '850047003003']"
      ]
     },
     "execution_count": 369,
     "metadata": {},
     "output_type": "execute_result"
    }
   ],
   "source": [
    "def ParseSKU(link):\n",
    "    soup = GetSoup(link)\n",
    "    el = soup.find('span', attrs={'class':'sku'})\n",
    "    return el.text if el else \"NA\"\n",
    "[ParseSKU(link) for link in booze]"
   ]
  },
  {
   "cell_type": "code",
   "execution_count": 370,
   "metadata": {},
   "outputs": [
    {
     "data": {
      "text/plain": [
       "['3.5 lbs',\n",
       " '3.5 lbs',\n",
       " '3.5 lbs',\n",
       " '3.5 lbs',\n",
       " '3.5 lbs',\n",
       " '3.5 lbs',\n",
       " '3.5 lbs',\n",
       " '3.5 lbs',\n",
       " '3.5 lbs',\n",
       " '7 lbs',\n",
       " '3.5 lbs',\n",
       " '3.5 lbs',\n",
       " '3.5 lbs',\n",
       " '3.5 lbs',\n",
       " '3.5 lbs',\n",
       " '3.5 lbs',\n",
       " '3.5 lbs',\n",
       " '3.5 lbs',\n",
       " '3.5 lbs',\n",
       " '3.5 lbs',\n",
       " '3.5 lbs',\n",
       " '3.5 lbs',\n",
       " '8 lbs',\n",
       " '3.5 lbs',\n",
       " '3.5 lbs',\n",
       " '3.5 lbs',\n",
       " '3.5 lbs',\n",
       " '3.5 lbs',\n",
       " '3.5 lbs',\n",
       " '3.5 lbs',\n",
       " '3.5 lbs',\n",
       " '1.5 lbs',\n",
       " '3.5 lbs',\n",
       " '5 lbs',\n",
       " '3.5 lbs',\n",
       " '3.5 lbs',\n",
       " '3.5 lbs',\n",
       " '3.5 lbs',\n",
       " '3.5 lbs',\n",
       " '3.5 lbs',\n",
       " '3.5 lbs',\n",
       " '3.5 lbs',\n",
       " '3.5 lbs',\n",
       " '3.5 lbs',\n",
       " '3.5 lbs',\n",
       " '3.5 lbs',\n",
       " '3.5 lbs',\n",
       " '3.5 lbs']"
      ]
     },
     "execution_count": 370,
     "metadata": {},
     "output_type": "execute_result"
    }
   ],
   "source": [
    "def ParseWeight(link):\n",
    "    soup = GetSoup(link)\n",
    "    el = soup.find('tr', attrs={'class':'woocommerce-product-attributes-item woocommerce-product-attributes-item--weight'}).text\n",
    "    return el.replace('Weight', '')\n",
    "[ParseWeight(link) for link in booze]"
   ]
  },
  {
   "cell_type": "code",
   "execution_count": 371,
   "metadata": {},
   "outputs": [
    {
     "data": {
      "text/plain": [
       "['Skrewball',\n",
       " 'E.H. Taylor',\n",
       " 'Buffalo Trace, Eagle Rare',\n",
       " 'Pennsylvania Dutch',\n",
       " 'Buffalo Trace',\n",
       " 'Willett',\n",
       " 'Empress 1908',\n",
       " 'NA',\n",
       " 'Sazerac',\n",
       " 'Clase Azul',\n",
       " 'Cava De Oro',\n",
       " 'Woodford Reserve',\n",
       " 'Puerto Vallarta',\n",
       " 'Mitchers',\n",
       " 'Buffalo Trace',\n",
       " 'Ciroc',\n",
       " 'NA',\n",
       " 'Willett',\n",
       " 'Bumbu',\n",
       " 'Weller',\n",
       " 'Proper No Twelve',\n",
       " 'Weller',\n",
       " 'Remy Martin',\n",
       " 'Angels Envy',\n",
       " 'Four Roses',\n",
       " 'MB Roland',\n",
       " 'Bumbu Rum Co',\n",
       " 'Henry McKenna',\n",
       " 'Crown Royal',\n",
       " 'Johnnie Walker',\n",
       " 'Rebel Yell',\n",
       " 'Buffalo Trace',\n",
       " 'Hibiki',\n",
       " 'Tequila Dos Artes',\n",
       " 'Jim Beam',\n",
       " 'High West',\n",
       " 'Fortaleza',\n",
       " 'Sauza',\n",
       " 'Titos',\n",
       " 'Hibiki',\n",
       " 'Larceny',\n",
       " 'Blackened',\n",
       " 'Nikka',\n",
       " 'Adictivo',\n",
       " 'Old Ezra',\n",
       " 'Yamazaki',\n",
       " 'Rock Hill Farms',\n",
       " \"Angel's Envy\"]"
      ]
     },
     "execution_count": 371,
     "metadata": {},
     "output_type": "execute_result"
    }
   ],
   "source": [
    "def ParseBrand(link):\n",
    "    soup = GetSoup(link)\n",
    "    el = soup.find('tr', attrs={'class':'woocommerce-product-attributes-item woocommerce-product-attributes-item--attribute_pa_brand'})\n",
    "    ele = el.text if el else \"NA\"\n",
    "    return ele.replace(\"Brand\", \"\")\n",
    "[ParseBrand(link) for link in booze]"
   ]
  },
  {
   "cell_type": "code",
   "execution_count": 373,
   "metadata": {},
   "outputs": [
    {
     "data": {
      "text/plain": [
       "['Whiskey',\n",
       " 'Whiskey',\n",
       " 'Whiskey',\n",
       " 'Liqueur',\n",
       " 'Whiskey',\n",
       " 'Rye',\n",
       " 'Gin',\n",
       " 'NA',\n",
       " 'Whiskey',\n",
       " 'Tequila',\n",
       " 'Tequila',\n",
       " 'Whiskey',\n",
       " 'Whiskey',\n",
       " 'Whiskey',\n",
       " 'Liqueur',\n",
       " 'Vodka',\n",
       " 'NA',\n",
       " 'Whiskey',\n",
       " 'Rum',\n",
       " 'Whiskey',\n",
       " 'Whiskey',\n",
       " 'Whiskey',\n",
       " 'Cognac',\n",
       " 'Whiskey',\n",
       " 'Whiskey',\n",
       " 'Whiskey',\n",
       " 'Rum',\n",
       " 'NA',\n",
       " 'Whiskey',\n",
       " 'Scotch',\n",
       " 'Whiskey',\n",
       " 'Whiskey',\n",
       " 'Whiskey',\n",
       " 'Tequila',\n",
       " 'Scotch',\n",
       " 'Whiskey',\n",
       " 'Tequila',\n",
       " 'Tequila',\n",
       " 'Tequila',\n",
       " 'Whiskey',\n",
       " '[email\\xa0protected]',\n",
       " 'Whiskey',\n",
       " 'Whiskey',\n",
       " 'Tequila',\n",
       " 'Whiskey',\n",
       " 'Whiskey',\n",
       " 'NA',\n",
       " 'Whiskey']"
      ]
     },
     "execution_count": 373,
     "metadata": {},
     "output_type": "execute_result"
    }
   ],
   "source": [
    "def ParseAlcType(link):\n",
    "    soup = GetSoup(link)\n",
    "    el = soup.find('tr', attrs={'class':'woocommerce-product-attributes-item woocommerce-product-attributes-item--attribute_pa_alcohol-type'})\n",
    "    ele = el.text if el else \"NA\"\n",
    "    return ele.replace('Alcohol Type', \"\")\n",
    "[ParseAlcType(link) for link in booze]"
   ]
  },
  {
   "cell_type": "code",
   "execution_count": null,
   "metadata": {},
   "outputs": [],
   "source": []
  },
  {
   "cell_type": "code",
   "execution_count": 374,
   "metadata": {},
   "outputs": [
    {
     "data": {
      "text/plain": [
       "['Peanut Butter Whiskey',\n",
       " 'Bourbon Whiskey',\n",
       " 'Bourbon Whiskey',\n",
       " 'NA',\n",
       " 'NA',\n",
       " 'American Whiskey',\n",
       " 'NA',\n",
       " 'NA',\n",
       " 'Rye Whiskey',\n",
       " 'Reposado',\n",
       " 'Extra Anejo',\n",
       " 'NA',\n",
       " 'NA',\n",
       " 'NA',\n",
       " 'Bourbon Liqueur',\n",
       " 'NA',\n",
       " 'NA',\n",
       " 'American Whiskey',\n",
       " 'NA',\n",
       " 'Bourbon Whiskey',\n",
       " 'NA',\n",
       " 'Bourbon Whiskey',\n",
       " 'NA',\n",
       " 'NA',\n",
       " 'NA',\n",
       " 'NA',\n",
       " 'NA',\n",
       " 'Bourbon Whiskey',\n",
       " 'NA',\n",
       " 'NA',\n",
       " 'NA',\n",
       " 'NA',\n",
       " 'NA',\n",
       " 'NA',\n",
       " 'NA',\n",
       " 'NA',\n",
       " 'NA',\n",
       " 'NA',\n",
       " 'NA',\n",
       " 'Japanese Whisky',\n",
       " 'NA',\n",
       " 'NA',\n",
       " 'Japanese Whisky',\n",
       " 'Extra Anejo',\n",
       " 'NA',\n",
       " 'Japanese Whisky',\n",
       " 'Bourbon Whiskey',\n",
       " 'NA']"
      ]
     },
     "execution_count": 374,
     "metadata": {},
     "output_type": "execute_result"
    }
   ],
   "source": [
    "def Class(link):\n",
    "    soup = GetSoup(link)\n",
    "    el = soup.find('tr', attrs={'class':\"woocommerce-product-attributes-item woocommerce-product-attributes-item--attribute_pa_class\"})\n",
    "    ele = el.text if el else \"NA\"\n",
    "    return ele.replace(\"Class\",\"\")\n",
    "[Class(link) for link in booze]"
   ]
  },
  {
   "cell_type": "code",
   "execution_count": null,
   "metadata": {},
   "outputs": [],
   "source": []
  },
  {
   "cell_type": "code",
   "execution_count": 375,
   "metadata": {},
   "outputs": [
    {
     "data": {
      "text/plain": [
       "['America',\n",
       " 'America',\n",
       " 'America',\n",
       " 'NA',\n",
       " 'NA',\n",
       " 'America',\n",
       " 'Canada',\n",
       " 'America',\n",
       " 'America',\n",
       " 'Mexico',\n",
       " 'Mexico',\n",
       " 'America',\n",
       " 'NA',\n",
       " 'NA',\n",
       " 'NA',\n",
       " 'France',\n",
       " 'NA',\n",
       " 'America',\n",
       " 'Barbados',\n",
       " 'America',\n",
       " 'Ireland',\n",
       " 'America',\n",
       " 'France',\n",
       " 'America',\n",
       " 'America',\n",
       " 'America',\n",
       " 'Barbados',\n",
       " 'America',\n",
       " 'Canada',\n",
       " 'Scotland',\n",
       " 'America',\n",
       " 'NA',\n",
       " 'Japan',\n",
       " 'Mexico',\n",
       " 'NA',\n",
       " 'America',\n",
       " 'Mexico',\n",
       " 'NA',\n",
       " 'NA',\n",
       " 'Japan',\n",
       " 'NA',\n",
       " 'America',\n",
       " 'Japan',\n",
       " 'Mexico',\n",
       " 'America',\n",
       " 'Japan',\n",
       " 'America',\n",
       " 'America']"
      ]
     },
     "execution_count": 375,
     "metadata": {},
     "output_type": "execute_result"
    }
   ],
   "source": [
    "def Region(link):\n",
    "    soup = GetSoup(link)\n",
    "    el = soup.find('tr', attrs={'class':'woocommerce-product-attributes-item woocommerce-product-attributes-item--attribute_pa_region'})\n",
    "    ele = el.text if el else \"NA\"\n",
    "    return ele.replace(\"Region\",\"\")\n",
    "[Region(link) for link in booze]"
   ]
  },
  {
   "cell_type": "code",
   "execution_count": 376,
   "metadata": {},
   "outputs": [
    {
     "data": {
      "text/plain": [
       "['70 ',\n",
       " '100 ',\n",
       " '100 ',\n",
       " '29.5 ',\n",
       " 'NA',\n",
       " '106.2',\n",
       " '85 ',\n",
       " 'NA',\n",
       " '90 ',\n",
       " '80 ',\n",
       " '76 ',\n",
       " '90.4 ',\n",
       " 'NA',\n",
       " '83.4',\n",
       " '30 ',\n",
       " '80 ',\n",
       " 'NA',\n",
       " '94 ',\n",
       " 'NA',\n",
       " '90 ',\n",
       " '80 ',\n",
       " '107',\n",
       " '80 ',\n",
       " '100 ',\n",
       " '104 ',\n",
       " '110.2 ',\n",
       " '70 ',\n",
       " 'NA',\n",
       " '70 ',\n",
       " '83.4',\n",
       " '100 ',\n",
       " 'NA',\n",
       " '86 ',\n",
       " '80 ',\n",
       " 'NA',\n",
       " '98.6 ',\n",
       " '80 ',\n",
       " 'NA',\n",
       " 'NA',\n",
       " '96 ',\n",
       " 'NA',\n",
       " '90 ',\n",
       " '102 ',\n",
       " '80 ',\n",
       " '117 ',\n",
       " '86 ',\n",
       " 'NA',\n",
       " '86.6 ']"
      ]
     },
     "execution_count": 376,
     "metadata": {},
     "output_type": "execute_result"
    }
   ],
   "source": [
    "def Proof(link):\n",
    "    soup = GetSoup(link)\n",
    "    el = soup.find('tr', attrs={'class':'woocommerce-product-attributes-item woocommerce-product-attributes-item--attribute_pa_proof'})\n",
    "    ele = el.text if el else \"NA\"\n",
    "    return ele.replace('Proof','')\n",
    "[Proof(link) for link in booze]"
   ]
  },
  {
   "cell_type": "code",
   "execution_count": 377,
   "metadata": {},
   "outputs": [
    {
     "data": {
      "text/plain": [
       "['In stock',\n",
       " 'Out of stock',\n",
       " 'In stock',\n",
       " 'Out of stock',\n",
       " 'In stock',\n",
       " 'Out of stock',\n",
       " 'In stock',\n",
       " 'Out of stock',\n",
       " 'In stock',\n",
       " 'In stock',\n",
       " 'In stock',\n",
       " 'Only 3 left in stock',\n",
       " 'In stock',\n",
       " 'Out of stock',\n",
       " 'In stock',\n",
       " 'In stock',\n",
       " 'In stock',\n",
       " 'Out of stock',\n",
       " 'In stock',\n",
       " 'Out of stock',\n",
       " 'In stock',\n",
       " 'Out of stock',\n",
       " 'In stock',\n",
       " 'Out of stock',\n",
       " 'In stock',\n",
       " 'In stock',\n",
       " 'In stock',\n",
       " 'Out of stock',\n",
       " 'Out of stock',\n",
       " 'In stock',\n",
       " 'Out of stock',\n",
       " 'In stock',\n",
       " 'Out of stock',\n",
       " 'Out of stock',\n",
       " 'In stock',\n",
       " 'Out of stock',\n",
       " 'In stock',\n",
       " 'In stock',\n",
       " 'In stock',\n",
       " 'In stock',\n",
       " 'In stock',\n",
       " 'Only 3 left in stock',\n",
       " 'Only 3 left in stock',\n",
       " 'In stock',\n",
       " 'Out of stock',\n",
       " 'Out of stock',\n",
       " 'Out of stock',\n",
       " 'In stock']"
      ]
     },
     "execution_count": 377,
     "metadata": {},
     "output_type": "execute_result"
    }
   ],
   "source": [
    "def Availability(link):\n",
    "    soup = GetSoup(link)\n",
    "    el = soup.find('div', attrs={'class':'avada-availability'})\n",
    "    return el.text if el else \"NA\"\n",
    "[Availability(link) for link in booze]"
   ]
  },
  {
   "cell_type": "code",
   "execution_count": null,
   "metadata": {},
   "outputs": [],
   "source": []
  }
 ],
 "metadata": {
  "kernelspec": {
   "display_name": "Python 3",
   "language": "python",
   "name": "python3"
  },
  "language_info": {
   "codemirror_mode": {
    "name": "ipython",
    "version": 3
   },
   "file_extension": ".py",
   "mimetype": "text/x-python",
   "name": "python",
   "nbconvert_exporter": "python",
   "pygments_lexer": "ipython3",
   "version": "3.7.1"
  }
 },
 "nbformat": 4,
 "nbformat_minor": 2
}
