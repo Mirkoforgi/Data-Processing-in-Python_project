{
 "cells": [
  {
   "cell_type": "code",
   "execution_count": 1,
   "metadata": {},
   "outputs": [],
   "source": [
    "# The purpose of the following project is to get some insight on beer prices. \n",
    "# This notebook contains a parser whose main objecetive is to parse the data from \"liquorama\", an online brewery\n",
    "# store from California. This scripot will extract information about their beer listings and obtain data regarding characteristics\n",
    "# such as price, brand, reviews ETCETERA. It will store the resulting objects into a JSON dictionary that will be transformed\n",
    "# in a pandas dataframe in \n",
    "\n",
    "\n",
    "#First it will import the required libraries in order to scrape the data succesfully"
   ]
  },
  {
   "cell_type": "code",
   "execution_count": 262,
   "metadata": {},
   "outputs": [],
   "source": [
    "import numpy as np\n",
    "import pandas as pd\n",
    "import requests\n",
    "from bs4 import BeautifulSoup, SoupStrainer\n",
    "from urllib.request import urlopen, Request"
   ]
  },
  {
   "cell_type": "code",
   "execution_count": 4,
   "metadata": {},
   "outputs": [
    {
     "name": "stdout",
     "output_type": "stream",
     "text": [
      "User-agent: *\r\n",
      "Disallow: /search.php\n",
      "User-agent: *\n",
      "Disallow: /*?_bc_fsnf=1*\n",
      "Disallow: /*&_bc_fsnf=1*\n",
      "\n"
     ]
    }
   ],
   "source": [
    "print(requests.get(\"https://www.liquorama.net/robots.txt\").text)"
   ]
  },
  {
   "cell_type": "code",
   "execution_count": null,
   "metadata": {},
   "outputs": [],
   "source": [
    "#The connection to the website was succesful and allows for scraping"
   ]
  },
  {
   "cell_type": "code",
   "execution_count": null,
   "metadata": {},
   "outputs": [],
   "source": [
    "################################################\n",
    "\n",
    "# Disallow: /?_bc_fsnf=1 — This blocks bots from following faceted search links and causing performance issues.\n",
    "\n",
    "# Disallow: /&_bc_fsnf=1 — This blocks bots from following faceted search links and causing performance issues.\n",
    "\n",
    "# Disallow: /search.php — This page handles searches from the search box on a store. Google has previously stated \n",
    "#                        that search results pages are not something they want in their index because it creates a poor \n",
    "#                        user experience (going from a search results page to another search results page instead of going \n",
    "#                        directly to the result).\n",
    "#\n",
    "#\n",
    "# Source: Big Commerce (Help Center), \"Understanding the Robots.txt file\", \n",
    "# https://support.bigcommerce.com/s/article/Understanding-the-Robots-txt-File\n",
    "################################################"
   ]
  },
  {
   "cell_type": "code",
   "execution_count": null,
   "metadata": {},
   "outputs": [],
   "source": [
    "# The purpose of this scraper is to get the general information of Liquorama's beer listing. The online store has a 21 page listing \n",
    "# of beers for different size, price, country of origin, reviews and type. \n",
    "\n",
    "# Firstly, we need the complete set of links in an object for further parsing."
   ]
  },
  {
   "cell_type": "code",
   "execution_count": 302,
   "metadata": {},
   "outputs": [],
   "source": [
    "only_divs = SoupStrainer(\"h4\", attrs={'class':'card-title'})\n",
    "    \n",
    "def GetSoup(link):\n",
    "        r = requests.get(link)\n",
    "        r.encoding = 'UTF-8'\n",
    "        return BeautifulSoup(r.text,'lxml', parse_only = only_divs)\n",
    "    "
   ]
  },
  {
   "cell_type": "code",
   "execution_count": 303,
   "metadata": {},
   "outputs": [],
   "source": [
    "def GetLinks(link):\n",
    "    soup = GetSoup(link)\n",
    "    for link in soup.find_all('a'):\n",
    "        print(link.get('href'))"
   ]
  },
  {
   "cell_type": "code",
   "execution_count": 304,
   "metadata": {},
   "outputs": [],
   "source": [
    "enlaces = []\n",
    "for i in range(1,22):\n",
    "    enlaces.append(\"https://www.liquorama.net/spirits/?sort=alphaasc&page=\" + str(i))"
   ]
  },
  {
   "cell_type": "code",
   "execution_count": 305,
   "metadata": {},
   "outputs": [],
   "source": [
    "def get_all_the_links(enlaces):\n",
    "    all_links = []\n",
    "    for enlace in enlaces:\n",
    "        all_links.append(GetLinks(enlace))"
   ]
  },
  {
   "cell_type": "code",
   "execution_count": 306,
   "metadata": {},
   "outputs": [
    {
     "name": "stdout",
     "output_type": "stream",
     "text": [
      "https://www.liquorama.net/ri-1-straight-rye-whiskey-750ml.html\n",
      "https://www.liquorama.net/1792-full-proof-single-barrel-select-no-2573-kentucky-straight-bourbon-whiskey-750ml.html\n",
      "https://www.liquorama.net/1792-single-barrel-kentucky-straight-bourbon-whiskey-750ml.html\n",
      "https://www.liquorama.net/1792-small-batch-kentucky-straight-bourbon-whiskey-750ml.html\n",
      "https://www.liquorama.net/1800-anejo-tequila-750ml.html\n",
      "https://www.liquorama.net/1800-anejo-tequila-750ml-etch.html\n",
      "https://www.liquorama.net/1800-reposado-tequila-750ml-etch.html\n",
      "https://www.liquorama.net/1800-reposado-tequila-750ml.html\n",
      "https://www.liquorama.net/1800-silver-tequila-750ml.html\n",
      "https://www.liquorama.net/1800-silver-tequila-750ml-etch.html\n",
      "https://www.liquorama.net/2-gingers-blended-irish-whiskey-750ml.html\n",
      "https://www.liquorama.net/360-vodka-double-chocolate-vodka-750ml.html\n",
      "https://www.liquorama.net/360-vodka-georgia-peach-vodka-750ml.html\n",
      "https://www.liquorama.net/44-north-mountain-huckleberry-flavored-vodka-750ml-etch.html\n",
      "https://www.liquorama.net/50ml-mini-beefeater-london-dry-england-gin.html\n",
      "https://www.liquorama.net/50ml-mini-beluga-noble-russian-vodka.html\n",
      "https://www.liquorama.net/50ml-mini-bombay-sapphire-london-dry-gin.html\n",
      "https://www.liquorama.net/50ml-mini-bulleit-kentucky-straight-bourbon-frontier-whiskey.html\n",
      "https://www.liquorama.net/50ml-mini-bushmills-irish-whiskey.html\n",
      "https://www.liquorama.net/50ml-mini-cafe-agave-cafe-mocha-cream-liqueur.html\n",
      "https://www.liquorama.net/50ml-mini-cafe-agave-toasted-coconut-cream-liqueur.html\n",
      "https://www.liquorama.net/50ml-mini-casamigos-anejo-tequila.html\n",
      "https://www.liquorama.net/50ml-mini-casamigos-blanco-tequila.html\n",
      "https://www.liquorama.net/50ml-mini-casamigos-reposado-tequila.html\n",
      "https://www.liquorama.net/50ml-mini-chivas-regal-12-year-old-blended-scotch.html\n",
      "https://www.liquorama.net/50ml-mini-chivas-regal-18-year-old-blended-scotch.html\n",
      "https://www.liquorama.net/50ml-mini-chivas-regal-extra-blended-scotch.html\n",
      "https://www.liquorama.net/50ml-mini-crown-royal-blended-canadian-whisky.html\n",
      "https://www.liquorama.net/50ml-mini-crown-royal-regal-apple-flavored-canadian-whisky.html\n",
      "https://www.liquorama.net/50ml-mini-crown-royal-vanilla-canadian-whisky.html\n",
      "https://www.liquorama.net/50ml-mini-crystal-head-pure-spirit-by-dan-aykroyd-new-foundland-vodka.html\n",
      "https://www.liquorama.net/50ml-mini-don-julio-anejo-tequila.html\n",
      "https://www.liquorama.net/50ml-mini-don-julio-reposado-tequila.html\n",
      "https://www.liquorama.net/50ml-mini-fireball-cinnamon-whisky.html\n",
      "https://www.liquorama.net/50ml-mini-glenfiddich-12-year-old-speyside-single-malt-scotch.html\n",
      "https://www.liquorama.net/50ml-mini-grand-marnier-cordon-rouge-orange-liqueur.html\n",
      "https://www.liquorama.net/50ml-mini-jack-daniels-tennessee-fire-liqueur.html\n",
      "https://www.liquorama.net/50ml-mini-jack-daniels-tennessee-honey-liqueur.html\n",
      "https://www.liquorama.net/50ml-mini-jack-daniels-old-no7-tennessee-sour-mash-whiskey.html\n",
      "https://www.liquorama.net/50ml-mini-jameson-blended-irish-whiskey.html\n",
      "https://www.liquorama.net/50ml-mini-johnnie-walker-black-label-12-year-old-blended-scotch.html\n",
      "https://www.liquorama.net/50ml-mini-johnnie-walker-red-label-blended-scotch.html\n",
      "https://www.liquorama.net/50ml-mini-makers-mark.html\n",
      "https://www.liquorama.net/50ml-mini-patron-anejo-tequila.html\n",
      "https://www.liquorama.net/50ml-mini-patron-reposado-tequila.html\n",
      "https://www.liquorama.net/50ml-mini-patron-silver-tequila.html\n",
      "https://www.liquorama.net/50ml-mini-patron-xo-cafe-liqueur.html\n",
      "https://www.liquorama.net/50ml-mini-seagrams-7-crown-blended-whiskey.html\n",
      "https://www.liquorama.net/50ml-mini-seagrams-vo-blended-whiskey.html\n",
      "https://www.liquorama.net/50ml-mini-tanqueray-london-dry-gin.html\n",
      "https://www.liquorama.net/50ml-mini-glenlivet-12-year-old-speyside-single-malt-scotch.html\n",
      "https://www.liquorama.net/50ml-mini-titos-handmade-texas-vodka.html\n",
      "https://www.liquorama.net/50ml-mini-whistlepig-10-year-old-straight-rye-whiskey.html\n",
      "https://www.liquorama.net/50ml-mini-woodford-reserve-bourbon-whiskey.html\n",
      "https://www.liquorama.net/88-anejo-tequila-750ml.html\n",
      "https://www.liquorama.net/88-blanco-tequila-750ml.html\n",
      "https://www.liquorama.net/99-apples-schnapps-liqueur-750ml.html\n",
      "https://www.liquorama.net/99-bananas-schnapps-liqueur-750ml.html\n",
      "https://www.liquorama.net/99-black-cherries-schnapps-liqueur-750ml.html\n",
      "https://www.liquorama.net/99-blackberries-schnapps-liqueur-750ml.html\n",
      "https://www.liquorama.net/99-butterscotch-schnapps-liqueur-750ml.html\n",
      "https://www.liquorama.net/99-coconuts-schnapps-liqueur-750ml.html\n",
      "https://www.liquorama.net/99-grapes-schnapps-liqueur-750ml.html\n",
      "https://www.liquorama.net/99-orange-schnapps-liqueur-750ml.html\n",
      "https://www.liquorama.net/99-peaches-schnapps-liqueur-750ml.html\n",
      "https://www.liquorama.net/99-pineapple-schnapps-liqueur-750ml.html\n",
      "https://www.liquorama.net/99-whipped-cream-schnapps-liqueur-750ml.html\n",
      "https://www.liquorama.net/ad-rattray-cask-islay-2-single-malt-scotch-750ml.html\n",
      "https://www.liquorama.net/aalborg-jubilaeums-aquavit-750ml.html\n",
      "https://www.liquorama.net/aalborg-taffel-aquavit-750ml.html\n",
      "https://www.liquorama.net/aberlour-12-year-old-double-cask-matured-highland-single-malt-scotch-750ml.html\n",
      "https://www.liquorama.net/aberlour-12-year-old-double-cask-matured-highland-single-malt-scotch-750ml-etch.html\n",
      "https://www.liquorama.net/aberlour-16-year-old-double-cask-matured-highland-single-malt-scotch-750ml.html\n",
      "https://www.liquorama.net/aberlour-16-year-old-double-cask-matured-highland-single-malt-scotch-750ml-etch.html\n",
      "https://www.liquorama.net/aberlour-18-year-old-highland-single-malt-scotch-750ml.html\n",
      "https://www.liquorama.net/aberlour-18-year-old-highland-single-malt-scotch-750ml-etch.html\n",
      "https://www.liquorama.net/aberlour-abunadh-cask-strength-highland-single-malt-scotch-750ml.html\n",
      "https://www.liquorama.net/aberlour-abunadh-cask-strength-highland-single-malt-scotch-750ml-etch.html\n",
      "https://www.liquorama.net/absinthe-ordinaire-liqueur-750ml.html\n",
      "https://www.liquorama.net/absolut-apeach-swedish-grain-vodka-750ml.html\n",
      "https://www.liquorama.net/absolut-cilantro-swedish-grain-vodka-750ml.html\n",
      "https://www.liquorama.net/absolut-citron-swedish-grain-vodka-1-75l-rated-90-95-best-buy.html\n",
      "https://www.liquorama.net/absolut-citron-swedish-grain-vodka-750ml.html\n",
      "https://www.liquorama.net/absolut-elyx-single-estate-vodka-750ml.html\n",
      "https://www.liquorama.net/absolut-grapefruit-swedish-grain-vodka-750ml.html\n",
      "https://www.liquorama.net/absolut-lime-swedish-grain-vodka-750ml.html\n",
      "https://www.liquorama.net/absolut-mandrin-swedish-grain-vodka-1-75l-rated-90-95.html\n",
      "https://www.liquorama.net/absolut-mandrin-swedish-grain-vodka-750ml.html\n",
      "https://www.liquorama.net/absolut-pears-swedish-grain-vodka-750ml.html\n",
      "https://www.liquorama.net/absolut-peppar-swedish-grain-vodka-750ml.html\n",
      "https://www.liquorama.net/absolut-raspberri-swedish-grain-vodka-750ml.html\n",
      "https://www.liquorama.net/absolut-swedish-grain-vodka-1-75l.html\n",
      "https://www.liquorama.net/absolut-swedish-grain-vodka-750ml.html\n",
      "https://www.liquorama.net/absolut-vanilia-vanilla-flavored-vodka-750ml.html\n",
      "https://www.liquorama.net/ac-dc-thunderstruck-anejo-tequila-750ml.html\n",
      "https://www.liquorama.net/ac-dc-thunderstruck-reposado-tequila-750ml.html\n",
      "https://www.liquorama.net/ac-dc-thunderstruck-silver-tequila-750ml.html\n",
      "https://www.liquorama.net/ada-lovelace-california-gin-750ml.html\n",
      "https://www.liquorama.net/adelphi-selection-bladnoch-24-year-old-1990-single-cask-malt-scotch-750ml.html\n",
      "https://www.liquorama.net/adelphi-selection-glenrothes-7-year-old-2007-single-cask-malt-scotch-750ml.html\n",
      "https://www.liquorama.net/adictivo-anejo-tequila-750ml.html\n",
      "https://www.liquorama.net/adictivo-extra-anejo-tequila-750ml.html\n",
      "https://www.liquorama.net/adictivo-plata-tequila-750ml.html\n",
      "https://www.liquorama.net/adictivo-reposado-tequila-750ml.html\n",
      "https://www.liquorama.net/adirondack-small-batch-601-american-whiskey-750ml.html\n",
      "https://www.liquorama.net/after-dark-premium-grain-spirit-whisky-india-750ml.html\n",
      "https://www.liquorama.net/agavero-tequila-liqueur-750ml.html\n",
      "https://www.liquorama.net/agavero-tequila-orange-liqueur-750ml.html\n",
      "https://www.liquorama.net/agwa-de-bolivia-coca-herbal-liqueur-750ml.html\n",
      "https://www.liquorama.net/alma-de-agave-4-bottle-combo-blanco-reposado-anejo-autentico-extra-anejo-750ml.html\n",
      "https://www.liquorama.net/alma-de-agave-anejo-tequila-750ml.html\n",
      "https://www.liquorama.net/alma-de-agave-autentico-extra-anejo-tequila-750ml.html\n",
      "https://www.liquorama.net/alma-de-agave-blanco-tequila-750ml.html\n",
      "https://www.liquorama.net/alma-de-agave-reposado-tequila-750ml.html\n",
      "https://www.liquorama.net/alto-del-carmen-pisco-750ml.html\n",
      "https://www.liquorama.net/amador-double-barrel-kentucky-bourbon-whiskey-750ml.html\n",
      "https://www.liquorama.net/amador-ten-barrels-chardonnay-finished-kentucky-straight-bourbon-750ml.html\n",
      "https://www.liquorama.net/amarula-cream-liqueur-750ml-south-africa.html\n",
      "https://www.liquorama.net/amate-reposado-tequila-750ml.html\n",
      "https://www.liquorama.net/american-anthem-vodka-750ml.html\n"
     ]
    },
    {
     "name": "stdout",
     "output_type": "stream",
     "text": [
      "https://www.liquorama.net/american-born-apple-pie-moonshine-750ml.html\n",
      "https://www.liquorama.net/american-born-apple-whiskey-750ml.html\n",
      "https://www.liquorama.net/american-born-dixie-moonshine-750ml.html\n",
      "https://www.liquorama.net/american-born-peach-whiskey-750ml.html\n",
      "https://www.liquorama.net/american-star-caviar-lime-flavored-vodka-375ml.html\n",
      "https://www.liquorama.net/ancho-reyes-ancho-chile-liqueur-750ml.html\n",
      "https://www.liquorama.net/ancho-reyes-verde-chile-liqueur-750ml.html\n",
      "https://www.liquorama.net/andrew-quady-vya-extra-dry-vermouth-750ml.html\n",
      "https://www.liquorama.net/andrew-quady-vya-sweet-vermouth-750ml.html\n",
      "https://www.liquorama.net/andrew-quady-vya-whisper-dry-vermouth-750ml.html\n",
      "https://www.liquorama.net/angels-envy-port-barrel-finished-kentucky-straight-bourbon-whiskey-750ml.html\n",
      "https://www.liquorama.net/angeles-de-oro-blanco-tequila-750ml.html\n",
      "https://www.liquorama.net/angeles-de-oro-reposado-tequila-750ml.html\n",
      "https://www.liquorama.net/angostura-bitters-16oz.html\n",
      "https://www.liquorama.net/angostura-bitters-4oz.html\n",
      "https://www.liquorama.net/angostura-bitters-6.7oz.html\n",
      "https://www.liquorama.net/angostura-orange-bitters-4oz.html\n",
      "https://www.liquorama.net/antica-black-sambuca-liqueur-750ml.html\n",
      "https://www.liquorama.net/antica-classic-sambuca-liqueur-750ml.html\n",
      "https://www.liquorama.net/aperol-orange-aperitif-750ml.html\n",
      "https://www.liquorama.net/appleton-estate-12-year-old-rare-blend-jamaica-rum-750ml.jpg\n",
      "https://www.liquorama.net/appleton-estate-21-year-old-jamaica-750ml.jpg\n",
      "https://www.liquorama.net/appleton-estate-reserve-jamaican-rum-750ml.html\n",
      "https://www.liquorama.net/appleton-estate-signature-blend-jamaica-rum-750ml.html\n",
      "https://www.liquorama.net/araceli-marigold-liqueur-750ml.html\n",
      "https://www.liquorama.net/ararat-5-year-old-armenia-brandy-750ml.html\n",
      "https://www.liquorama.net/ararat-akhtamar-10-year-old-armenia-brandy-750ml.html\n",
      "https://www.liquorama.net/ararat-ani-6-year-old-armenia-brandy-750ml.html\n",
      "https://www.liquorama.net/ararat-nairi-20-year-old-armenia-brandy-750ml.html\n",
      "https://www.liquorama.net/ararat-otborny-7-year-old-armenia-brandy-750ml.html\n",
      "https://www.liquorama.net/ararat-vaspurakan-15-year-old-armenia-brandy-750ml.html\n",
      "https://www.liquorama.net/ardbeg-10-year-old-islay-single-malt-scotch-750ml.html\n",
      "https://www.liquorama.net/ardbeg-an-oa-islay-single-malt-scotch-750ml.html\n",
      "https://www.liquorama.net/ardbeg-corryvreckan-islay-single-malt-scotch-750ml.html\n",
      "https://www.liquorama.net/ardbeg-uigeadail-islay-single-malt-scotch-750ml.html\n",
      "https://www.liquorama.net/ardmore-legacy-highland-single-malt-scotch-750ml.html\n",
      "https://www.liquorama.net/arvero-limoncello-liqueur-italy-750ml.html\n",
      "https://www.liquorama.net/asbach-privatbrand-8-year-old-german-brandy-750ml.html\n",
      "https://www.liquorama.net/asbach-uralt-original-3-year-old-german-brandy-750ml.html\n",
      "https://www.liquorama.net/atlantico-reserva-dominican-rum-750ml.html\n",
      "https://www.liquorama.net/auchentoshan-18-year-old-lowland-single-malt-scotch-750ml.html\n",
      "https://www.liquorama.net/auchentoshan-18-year-old-lowland-single-malt-scotch-750ml-etch.html\n",
      "https://www.liquorama.net/auchentoshan-21-year-old-lowland-single-malt-scotch-750ml.html\n",
      "https://www.liquorama.net/auchentoshan-21-year-old-lowland-single-malt-scotch-750ml-etch.html\n",
      "https://www.liquorama.net/auchentoshan-american-oak-lowland-single-malt-scotch-750ml.html\n",
      "https://www.liquorama.net/auchentoshan-american-oak-lowland-single-malt-scotch-750ml-etch.html\n",
      "https://www.liquorama.net/auchentoshan-three-wood-lowland-750ml.html\n",
      "https://www.liquorama.net/auchentoshan-three-wood-lowland-750ml-etch.html\n",
      "https://www.liquorama.net/austin-cocktails-bergamot-orange-margarita-750ml.html\n",
      "https://www.liquorama.net/austin-cocktails-cucumber-vodka-mojito-750ml.html\n",
      "https://www.liquorama.net/austin-cocktails-freds-ruby-red-cocktail-750ml.html\n",
      "https://www.liquorama.net/australian-bitters-company-aromatic-bitters-250ml.html\n",
      "https://www.liquorama.net/australian-bitters-company-barrel-spice-bitters-4oz.html\n",
      "https://www.liquorama.net/australian-bitters-company-coffee-bitters-4oz.html\n",
      "https://www.liquorama.net/australian-bitters-company-grapefruit-bitters-4oz.html\n",
      "https://www.liquorama.net/australian-bitters-company-orange-bitters-4oz.html\n",
      "https://www.liquorama.net/australian-bitters-company-smoke-bitters-4oz.html\n",
      "https://www.liquorama.net/averna-amaro-digestive-bitters-italy-750ml.html\n",
      "https://www.liquorama.net/aviation-american-gin-750ml.html\n",
      "https://www.liquorama.net/avion-anejo-tequila-750ml-etch.html\n",
      "https://www.liquorama.net/avion-reposado-tequila-750ml-etch.html\n",
      "https://www.liquorama.net/avion-reserva-44-extra-anejo-tequila-750ml.html\n",
      "https://www.liquorama.net/avion-silver-tequila-750ml-etch.html\n",
      "https://www.liquorama.net/avua-amburana-cachaca-brazilian-rum-750ml.html\n",
      "https://www.liquorama.net/avua-jequitiba-rosa-aged-cachaca-brazilian-rum-750ml.html\n",
      "https://www.liquorama.net/avua-oak-cachaca-brazilian-rum-750ml.html\n",
      "https://www.liquorama.net/avua-prata-cachaca-brazilian-rum-750ml.html\n",
      "https://www.liquorama.net/avua-still-strength-cachaca-brazilian-rum-750ml.html\n",
      "https://www.liquorama.net/avua-tapinhoa-cachaca-brazilian-rum-750ml.html\n",
      "https://www.liquorama.net/ayate-anejo-tequila-by-dave-phinney-750ml.html\n",
      "https://www.liquorama.net/ayate-reposado-tequila-by-dave-phinney-750ml.html\n",
      "https://www.liquorama.net/azunia-2-year-black-anejo-tequila-750ml.html\n",
      "https://www.liquorama.net/azunia-anejo-reserved-tequila-750ml.html\n",
      "https://www.liquorama.net/azunia-blanco-oragnic-tequila-750ml.html\n",
      "https://www.liquorama.net/azunia-reposado-oragnic-tequila-750ml.html\n",
      "https://www.liquorama.net/b-b-liqueur-750ml.html\n",
      "https://www.liquorama.net/bacardi-banana-rum-750ml.html\n",
      "https://www.liquorama.net/bacardi-black-rum-puerto-rico-750ml.html\n",
      "https://www.liquorama.net/bacardi-coconut-rum-750ml.html\n",
      "https://www.liquorama.net/bacardi-cuatro-4-year-old-anejo-rum-750ml.html\n",
      "https://www.liquorama.net/bacardi-dragonberry-rum-750ml.html\n",
      "https://www.liquorama.net/bacardi-facundo-eximo-10-year-old-rum-750ml.html\n",
      "https://www.liquorama.net/bacardi-facundo-exquisito-23-year-old-rum-750ml.html\n",
      "https://www.liquorama.net/bacardi-facundo-neo-silver-rum-750ml.html\n",
      "https://www.liquorama.net/bacardi-facundo-paraiso-rum-750ml.html\n",
      "https://www.liquorama.net/bacardi-gold-puerto-rico-rum-1-75l.html\n",
      "https://www.liquorama.net/bacardi-gold-puerto-rico-rum-750ml.html\n",
      "https://www.liquorama.net/bacardi-gran-reserva-8-year-old-rum-750ml.html\n",
      "https://www.liquorama.net/bacardi-gran-reserva-diez-10-year-old-rum-750ml.html\n",
      "https://www.liquorama.net/bacardi-grapefruit-rum-750ml.html\n",
      "https://www.liquorama.net/bacardi-limited-edition-major-lazer-rum-750ml.html\n",
      "https://www.liquorama.net/bacardi-limon-rum-1-75l.html\n",
      "https://www.liquorama.net/bacardi-limon-rum-750ml.html\n",
      "https://www.liquorama.net/bacardi-oakheart-spiced-rum-750ml.html\n",
      "https://www.liquorama.net/bacardi-raspberry-rum-750ml.html\n",
      "https://www.liquorama.net/bacardi-superior-rum-puerto-rico-1-75l.html\n",
      "https://www.liquorama.net/bacardi-superior-rum-puerto-rico-750ml.html\n",
      "https://www.liquorama.net/baileys-almande-almondmilk-liqueur-750ml.html\n",
      "https://www.liquorama.net/baileys-irish-cream-espresso-creme-liqueur-750ml.html\n",
      "https://www.liquorama.net/baileys-irish-cream-liqueur-with-vanilla-cinnamon-750ml.html\n",
      "https://www.liquorama.net/baileys-irish-cream-pumpkin-spice-liqueur-750ml.html\n",
      "https://www.liquorama.net/baileys-irish-cream-salted-caramel-liqueur-750ml.html\n",
      "https://www.liquorama.net/baileys-the-original-irish-creme-liqueur-1l.html\n",
      "https://www.liquorama.net/baileys-the-original-irish-creme-liqueur-750ml.html\n",
      "https://www.liquorama.net/bakon-bacon-flavored-potato-vodka-750ml.html\n",
      "https://www.liquorama.net/balblair-1969-highland-single-malt-scotch-750ml.html\n",
      "https://www.liquorama.net/balblair-2005-highland-single-malt-scotch-750ml.html\n",
      "https://www.liquorama.net/balcones-1-texas-single-malt-whisky-750ml.html\n",
      "https://www.liquorama.net/balcones-baby-blue-texas-whisky-750ml.html\n",
      "https://www.liquorama.net/balcones-rumble-texas-whisky-750ml.html\n",
      "https://www.liquorama.net/balcones-rye-texas-whisky-750ml.html\n",
      "https://www.liquorama.net/balcones-texas-pot-still-straight-bourbon-whisky-750ml.html\n",
      "https://www.liquorama.net/ballantines-12-year-old-blended-scotch-whisky-750ml.html\n",
      "https://www.liquorama.net/ballantines-17-year-old-blended-scotch-whisky-750ml.html\n",
      "https://www.liquorama.net/ballantines-finest-blended-scotch-whisky-750ml.html\n",
      "https://www.liquorama.net/balvenie-12-year-old-doublewood-speyside-single-malt-scotch-750ml.html\n",
      "https://www.liquorama.net/balvenie-14-year-old-caribbean-rum-cask-single-malt-scotch-750ml.html\n",
      "https://www.liquorama.net/balvenie-15-year-old-single-barrel-sherry-cask-single-malt-scotch-750ml.html\n",
      "https://www.liquorama.net/balvenie-21-year-old-portwood-750ml.html\n",
      "https://www.liquorama.net/balvenie-tun-1509-batch-5-single-malt-scotch-750ml.html\n"
     ]
    },
    {
     "name": "stdout",
     "output_type": "stream",
     "text": [
      "https://www.liquorama.net/bank-note-5-year-old-blended-scotch-whisky-750ml.html\n",
      "https://www.liquorama.net/barberino-alma-toscana-brunello-montalcino-grappa-750ml.html\n",
      "https://www.liquorama.net/barberino-alma-toscana-chianti-classico-riserva-grappa-750ml.html\n",
      "https://www.liquorama.net/barberino-alma-toscana-di-morellino-di-scansano-grappa-750ml.html\n",
      "https://www.liquorama.net/barberino-alma-toscana-vin-santo-grappa-750ml.html\n",
      "https://www.liquorama.net/barenjager-honey-bourbon-liqueur-germany.html\n",
      "https://www.liquorama.net/barenjager-honey-liqueur-germany.html\n",
      "https://www.liquorama.net/barr-an-uisce-wicklow-rare-small-batch-blended-irish-whiskey-750ml.html\n",
      "https://www.liquorama.net/barrows-intense-ginger-liqueur-750ml.html\n",
      "https://www.liquorama.net/bartenders-hot-sex-cocktail-750ml.html\n",
      "https://www.liquorama.net/basil-haydens-dark-rye-whiskey-750ml.html\n",
      "https://www.liquorama.net/basil-haydens-kentucky-straight-bourbon-whiskey-750ml.html\n"
     ]
    }
   ],
   "source": [
    "get_all_the_links(enlaces)"
   ]
  },
  {
   "cell_type": "code",
   "execution_count": null,
   "metadata": {},
   "outputs": [],
   "source": []
  },
  {
   "cell_type": "code",
   "execution_count": null,
   "metadata": {},
   "outputs": [],
   "source": [
    "#Afterwards we must build a function that allows us to convert an html from the website to a BeautifulSoup object (BSO)"
   ]
  },
  {
   "cell_type": "code",
   "execution_count": null,
   "metadata": {},
   "outputs": [],
   "source": [
    "\"https://www.liquorama.net/aperol-orange-aperitif-750ml.html\""
   ]
  },
  {
   "cell_type": "code",
   "execution_count": 361,
   "metadata": {},
   "outputs": [],
   "source": [
    "class Scraper:\n",
    "    \n",
    "    def __init__(self, url):\n",
    "        self.url= url\n",
    "        \n",
    "    def GetSoup(self):\n",
    "        only_divs = SoupStrainer(\"div\", attrs={'class':'productView-product'})\n",
    "        r = requests.get(self.url)\n",
    "        r.encoding = 'UTF-8'\n",
    "        return BeautifulSoup(r.text,'lxml', parse_only = only_divs)\n",
    "         \n",
    "    \n",
    "#### Parse the prices of spirits (Why did the results are duplicate?)\n",
    "    def scrape_prices(self):\n",
    "        return soup.find('span', {'class':'price price--withoutTax'}).text\n",
    "#### Parse the list name \n",
    "    def scrape_name(self):\n",
    "        soup = GetSoup(self)\n",
    "        return soup.find('h1', {'class':'productView-title'}).text\n",
    "            \n",
    "    def scrape_dict(self):\n",
    "        soupArr = []\n",
    "        for product in soup.findAll('li', {'class':'product'}):\n",
    "            soupObject = {\n",
    "                \"name\":scrape_names(),\n",
    "                \"price\":scrape_prices()\n",
    "        }\n",
    "        soupArr.append(soupObject)\n",
    "        return soupArr\n",
    "    \n",
    "    def getAllLinks(self):\n",
    "        product = soup.findAll('li', {'class':'product'})\n",
    "        href = soup.findAll('td', {'align':'center'})\n",
    "        return [td.find('a')['href'] for td in tds]\n",
    "        "
   ]
  },
  {
   "cell_type": "code",
   "execution_count": 363,
   "metadata": {},
   "outputs": [
    {
     "data": {
      "text/plain": [
       "'$14.99'"
      ]
     },
     "execution_count": 363,
     "metadata": {},
     "output_type": "execute_result"
    }
   ],
   "source": [
    "test = Scraper(\"https://www.liquorama.net/aperol-orange-aperitif-750ml.html\")\n",
    "test.scrape_prices()"
   ]
  },
  {
   "cell_type": "code",
   "execution_count": 278,
   "metadata": {},
   "outputs": [],
   "source": [
    "test."
   ]
  },
  {
   "cell_type": "code",
   "execution_count": 276,
   "metadata": {},
   "outputs": [],
   "source": []
  },
  {
   "cell_type": "code",
   "execution_count": 297,
   "metadata": {},
   "outputs": [],
   "source": []
  },
  {
   "cell_type": "code",
   "execution_count": null,
   "metadata": {},
   "outputs": [],
   "source": []
  },
  {
   "cell_type": "code",
   "execution_count": 346,
   "metadata": {},
   "outputs": [
    {
     "data": {
      "text/plain": [
       "'Aperol Orange Aperitif 750ml'"
      ]
     },
     "execution_count": 346,
     "metadata": {},
     "output_type": "execute_result"
    }
   ],
   "source": [
    "test.GetSoup().find('h1', {'class':'productView-title'}).text"
   ]
  },
  {
   "cell_type": "code",
   "execution_count": null,
   "metadata": {},
   "outputs": [],
   "source": []
  },
  {
   "cell_type": "code",
   "execution_count": null,
   "metadata": {},
   "outputs": [],
   "source": []
  },
  {
   "cell_type": "code",
   "execution_count": null,
   "metadata": {},
   "outputs": [],
   "source": []
  },
  {
   "cell_type": "code",
   "execution_count": null,
   "metadata": {},
   "outputs": [],
   "source": []
  },
  {
   "cell_type": "code",
   "execution_count": 237,
   "metadata": {},
   "outputs": [],
   "source": []
  },
  {
   "cell_type": "code",
   "execution_count": null,
   "metadata": {},
   "outputs": [],
   "source": []
  },
  {
   "cell_type": "code",
   "execution_count": null,
   "metadata": {},
   "outputs": [],
   "source": []
  },
  {
   "cell_type": "code",
   "execution_count": null,
   "metadata": {},
   "outputs": [],
   "source": []
  },
  {
   "cell_type": "code",
   "execution_count": null,
   "metadata": {},
   "outputs": [],
   "source": []
  },
  {
   "cell_type": "code",
   "execution_count": null,
   "metadata": {},
   "outputs": [],
   "source": []
  },
  {
   "cell_type": "code",
   "execution_count": null,
   "metadata": {},
   "outputs": [],
   "source": []
  },
  {
   "cell_type": "raw",
   "metadata": {},
   "source": []
  },
  {
   "cell_type": "code",
   "execution_count": null,
   "metadata": {},
   "outputs": [],
   "source": []
  },
  {
   "cell_type": "code",
   "execution_count": null,
   "metadata": {},
   "outputs": [],
   "source": []
  },
  {
   "cell_type": "code",
   "execution_count": null,
   "metadata": {},
   "outputs": [],
   "source": []
  },
  {
   "cell_type": "code",
   "execution_count": null,
   "metadata": {},
   "outputs": [],
   "source": []
  },
  {
   "cell_type": "code",
   "execution_count": 318,
   "metadata": {},
   "outputs": [],
   "source": [
    "only_divs = SoupStrainer(\"div\", attrs={'class':'productView-product'})"
   ]
  },
  {
   "cell_type": "code",
   "execution_count": 319,
   "metadata": {},
   "outputs": [],
   "source": [
    "def sacasopa(link):\n",
    "    r = requests.get(link)\n",
    "    r.encoding = 'UTF-8'\n",
    "    return BeautifulSoup(r.text, 'lxml', parse_only = only_divs)"
   ]
  },
  {
   "cell_type": "code",
   "execution_count": 320,
   "metadata": {},
   "outputs": [
    {
     "data": {
      "text/plain": [
       "<!DOCTYPE html>\n",
       "<div class=\"productView-product\">\n",
       "<h1 class=\"productView-title\" itemprop=\"name\">Aperol Orange Aperitif 750ml</h1>\n",
       "<div class=\"productView-price\">\n",
       "<div class=\"price-section price-section--withoutTax \" itemprop=\"offers\" itemscope=\"\" itemtype=\"http://schema.org/Offer\">\n",
       "<span class=\"price price--rrp\" data-product-rrp-without-tax=\"\">$28.99</span>\n",
       "<meta content=\"25.99\" itemprop=\"price\"/>\n",
       "<meta content=\"USD\" itemprop=\"priceCurrency\"/>\n",
       "<span class=\"price price--withoutTax\" data-product-price-without-tax=\"\">$25.99</span>\n",
       "</div>\n",
       "<div class=\"price-section price-section--saving\">\n",
       "<span class=\"price\">\n",
       "                    (You save $3.00)\n",
       "                </span>\n",
       "</div>\n",
       "</div>\n",
       "<div class=\"productView-rating\">\n",
       "<span class=\"icon icon--ratingEmpty\">\n",
       "<svg>\n",
       "<use xlink:href=\"#icon-star\"></use>\n",
       "</svg>\n",
       "</span>\n",
       "<span class=\"icon icon--ratingEmpty\">\n",
       "<svg>\n",
       "<use xlink:href=\"#icon-star\"></use>\n",
       "</svg>\n",
       "</span>\n",
       "<span class=\"icon icon--ratingEmpty\">\n",
       "<svg>\n",
       "<use xlink:href=\"#icon-star\"></use>\n",
       "</svg>\n",
       "</span>\n",
       "<span class=\"icon icon--ratingEmpty\">\n",
       "<svg>\n",
       "<use xlink:href=\"#icon-star\"></use>\n",
       "</svg>\n",
       "</span>\n",
       "<span class=\"icon icon--ratingEmpty\">\n",
       "<svg>\n",
       "<use xlink:href=\"#icon-star\"></use>\n",
       "</svg>\n",
       "</span>\n",
       "<!-- snippet location product_rating -->\n",
       "<span class=\"productView-reviewLink\">\n",
       "                         (No reviews yet)\n",
       "                 </span>\n",
       "<span class=\"productView-reviewLink\">\n",
       "<a href=\"\">Write a Review</a>\n",
       "</span>\n",
       "</div>\n",
       "<dl class=\"productView-info\">\n",
       "<dt class=\"productView-info-name\">SKU:</dt>\n",
       "<dd class=\"productView-info-value\" data-product-sku=\"\">Bar323</dd>\n",
       "<dt class=\"productView-info-name\">UPC:</dt>\n",
       "<dd class=\"productView-info-value\" data-product-upc=\"\">086785900001</dd>\n",
       "<dt class=\"productView-info-name\">Shipping:</dt>\n",
       "<dd class=\"productView-info-value\">Calculated at Checkout</dd>\n",
       "<div class=\"productView-info-bulkPricing\">\n",
       "</div>\n",
       "</dl>\n",
       "</div>"
      ]
     },
     "execution_count": 320,
     "metadata": {},
     "output_type": "execute_result"
    }
   ],
   "source": [
    "sacasopa(\"https://www.liquorama.net/aperol-orange-aperitif-750ml.html\")"
   ]
  },
  {
   "cell_type": "code",
   "execution_count": null,
   "metadata": {},
   "outputs": [],
   "source": []
  }
 ],
 "metadata": {
  "kernelspec": {
   "display_name": "Python 3",
   "language": "python",
   "name": "python3"
  },
  "language_info": {
   "codemirror_mode": {
    "name": "ipython",
    "version": 3
   },
   "file_extension": ".py",
   "mimetype": "text/x-python",
   "name": "python",
   "nbconvert_exporter": "python",
   "pygments_lexer": "ipython3",
   "version": "3.7.1"
  }
 },
 "nbformat": 4,
 "nbformat_minor": 2
}
