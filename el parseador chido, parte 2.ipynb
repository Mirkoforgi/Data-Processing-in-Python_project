{
 "cells": [
  {
   "cell_type": "code",
   "execution_count": 1,
   "metadata": {},
   "outputs": [],
   "source": [
    "# The purpose of the following project is to get some insight on spirit prices. \n",
    "# This notebook contains a parser whose main objecetive is to parse the data from \"liquorama\", an online brewery\n",
    "# store from California. This script will extract information about their beer listings and obtain data regarding characteristics\n",
    "# such as price, brand, reviews ETCETERA. It will store the resulting objects into a JSON dictionary that will be transformed\n",
    "# in a pandas dataframe in \n",
    "\n",
    "\n",
    "#First it will import the required libraries in order to scrape the data succesfully"
   ]
  },
  {
   "cell_type": "code",
   "execution_count": 2,
   "metadata": {},
   "outputs": [],
   "source": [
    "import numpy as np\n",
    "import pandas as pd\n",
    "import requests\n",
    "from bs4 import BeautifulSoup, SoupStrainer\n",
    "from urllib.request import urlopen, Request\n",
    "import json"
   ]
  },
  {
   "cell_type": "code",
   "execution_count": 3,
   "metadata": {},
   "outputs": [
    {
     "name": "stdout",
     "output_type": "stream",
     "text": [
      "User-agent: *\r\n",
      "Disallow: /search.php\n",
      "User-agent: *\n",
      "Disallow: /*?_bc_fsnf=1*\n",
      "Disallow: /*&_bc_fsnf=1*\n",
      "\n"
     ]
    }
   ],
   "source": [
    "print(requests.get(\"https://www.liquorama.net/robots.txt\").text)"
   ]
  },
  {
   "cell_type": "code",
   "execution_count": null,
   "metadata": {},
   "outputs": [],
   "source": [
    "#The connection to the website was succesful and allows for scraping"
   ]
  },
  {
   "cell_type": "code",
   "execution_count": null,
   "metadata": {},
   "outputs": [],
   "source": [
    "################################################\n",
    "\n",
    "# Disallow: /?_bc_fsnf=1 — This blocks bots from following faceted search links and causing performance issues.\n",
    "\n",
    "# Disallow: /&_bc_fsnf=1 — This blocks bots from following faceted search links and causing performance issues.\n",
    "\n",
    "# Disallow: /search.php — This page handles searches from the search box on a store. Google has previously stated \n",
    "#                        that search results pages are not something they want in their index because it creates a poor \n",
    "#                        user experience (going from a search results page to another search results page instead of going \n",
    "#                        directly to the result).\n",
    "#\n",
    "#\n",
    "# Source: Big Commerce (Help Center), \"Understanding the Robots.txt file\", \n",
    "# https://support.bigcommerce.com/s/article/Understanding-the-Robots-txt-File\n",
    "################################################"
   ]
  },
  {
   "cell_type": "code",
   "execution_count": null,
   "metadata": {},
   "outputs": [],
   "source": [
    "# The purpose of this scraper is to get the general information of Liquorama's beer listing. The online store has a 21 page listing \n",
    "# of beers for different size, price, country of origin, reviews and type. \n",
    "\n",
    "# Firstly, we need the complete set of links in an object for further parsing."
   ]
  },
  {
   "cell_type": "code",
   "execution_count": 96,
   "metadata": {},
   "outputs": [],
   "source": [
    "def GetSoup(link):\n",
    "        r = requests.get(link)\n",
    "        r.encoding = 'UTF-8'\n",
    "        return BeautifulSoup(r.text,'lxml')\n",
    "    "
   ]
  },
  {
   "cell_type": "code",
   "execution_count": 303,
   "metadata": {},
   "outputs": [],
   "source": [
    "def GetLinks(link):                     \n",
    "    soup = GetSoup(link)\n",
    "    l = []\n",
    "    for link in soup.findAll('a', attrs={\"class\":\"product-images\"}):\n",
    "        l.append(link.get('href'))\n",
    "    return l"
   ]
  },
  {
   "cell_type": "code",
   "execution_count": 748,
   "metadata": {},
   "outputs": [],
   "source": [
    "linqs = []\n",
    "\n",
    "for i in range(1,9):\n",
    "    linqs.append(\"https://uptownspirits.com/shop/liquor/page/\" + str(i) + \"/?product_count=144\")"
   ]
  },
  {
   "cell_type": "code",
   "execution_count": 671,
   "metadata": {},
   "outputs": [],
   "source": [
    "products =[]\n",
    "\n",
    "for link in linqs:\n",
    "    products.append(GetLinks(link))\n",
    "    "
   ]
  },
  {
   "cell_type": "code",
   "execution_count": 732,
   "metadata": {},
   "outputs": [],
   "source": [
    "prods = [item for sublist in products for item in sublist]"
   ]
  },
  {
   "cell_type": "code",
   "execution_count": null,
   "metadata": {},
   "outputs": [],
   "source": [
    "#Afterwards we must build a function that allows us to convert an html from the website to a BeautifulSoup object (BSO)"
   ]
  },
  {
   "cell_type": "code",
   "execution_count": 79,
   "metadata": {},
   "outputs": [],
   "source": [
    "##### HOW CAN I ADD ANOTHER ELEMENT WITHOUT SCARIFICING TIME AND MEMORY?"
   ]
  },
  {
   "cell_type": "code",
   "execution_count": null,
   "metadata": {},
   "outputs": [],
   "source": [
    "##### triunfando en OOP"
   ]
  },
  {
   "cell_type": "code",
   "execution_count": 737,
   "metadata": {},
   "outputs": [],
   "source": [
    "class Scraper:\n",
    "    \n",
    "    def __init__(self):\n",
    "        self.dataall = {}\n",
    "        \n",
    "    def GetSoup(self, url):\n",
    "        r = requests.get(url)\n",
    "        r.encoding = 'UTF-8'\n",
    "        self.soup  = BeautifulSoup(r.text,'lxml')\n",
    "        \n",
    "    def ParseSKU(self):\n",
    "        el = self.soup.find('span', attrs={'class':'sku'})\n",
    "        self.SKU = el.text if el else \"NA\"\n",
    "    \n",
    "    def ParseName(self):\n",
    "        self.title = self.soup.find('h1', attrs={'class':'product_title entry-title'}).text\n",
    "\n",
    "    def ParsePrice(self):\n",
    "        self.price = self.soup.find('span', attrs={'class':'woocommerce-Price-amount amount'}).text\n",
    "    \n",
    "    def ParseBrand(self):\n",
    "        el = self.soup.find('tr', attrs={'class':'woocommerce-product-attributes-item woocommerce-product-attributes-item--attribute_pa_brand'})\n",
    "        self.brand = el.text if el else \"NA\"\n",
    "    \n",
    "    def ParseAvailability(self):\n",
    "        el = self.soup.find('div', attrs={'class':'avada-availability'})\n",
    "        self.availability = el.text if el else \"NA\"\n",
    "        \n",
    "    \n",
    "    def Region(self):\n",
    "        el = self.soup.find('tr', attrs={'class':'woocommerce-product-attributes-item woocommerce-product-attributes-item--attribute_pa_region'})\n",
    "        ele = el.text if el else \"NA\"\n",
    "        self.region = ele.replace(\"Region\",\"\")\n",
    "    \n",
    "    def ParseWeight(self):\n",
    "        el = self.soup.find('tr', attrs={'class':'woocommerce-product-attributes-item woocommerce-product-attributes-item--weight'})\n",
    "        ele = el.text if el else \"NA\"\n",
    "        self.weight = ele.replace('Weight', '')\n",
    "        \n",
    "    def ParseAlcType(self):\n",
    "        el = self.soup.find('tr', attrs={'class':'woocommerce-product-attributes-item woocommerce-product-attributes-item--attribute_pa_alcohol-type'})\n",
    "        ele = el.text if el else \"NA\"\n",
    "        self.alctype = ele.replace('Alcohol Type', \"\")\n",
    "    \n",
    "    def Clas(self):\n",
    "        el = self.soup.find('tr', attrs={'class':\"woocommerce-product-attributes-item woocommerce-product-attributes-item--attribute_pa_class\"})\n",
    "        ele = el.text if el else \"NA\"\n",
    "        self.clas = ele.replace(\"Class\",\"\")\n",
    "    \n",
    "    def Proof(self):\n",
    "        el = self.soup.find('tr', attrs={'class':'woocommerce-product-attributes-item woocommerce-product-attributes-item--attribute_pa_proof'})\n",
    "        ele = el.text if el else \"NA\"\n",
    "        self.proof = ele.replace('Proof','')\n",
    "   \n",
    "    \n",
    "\n",
    "    \n",
    "        \n",
    "    def oneDic(self):\n",
    "        '''\n",
    "        a dictionary of data for one link\n",
    "        '''\n",
    "        self.dic = {}\n",
    "        \n",
    "        self.dic['SKU'] = self.SKU\n",
    "        self.dic['Name'] = self.title\n",
    "        self.dic['Price'] = self.price\n",
    "        self.dic['Brand'] = self.brand\n",
    "        self.dic['Availability'] = self.availability\n",
    "        self.dic['Region'] = self.region\n",
    "        self.dic['Weight'] = self.weight\n",
    "        self.dic['Type'] = self.alctype\n",
    "        self.dic['Class'] = self.clas\n",
    "        self.dic['Proof'] = self.proof\n",
    "        \n",
    "        #append it to all dataframe\n",
    "        self.dataall[self.title] = self.dic"
   ]
  },
  {
   "cell_type": "code",
   "execution_count": 738,
   "metadata": {},
   "outputs": [],
   "source": [
    "ws = Scraper()"
   ]
  },
  {
   "cell_type": "code",
   "execution_count": 741,
   "metadata": {},
   "outputs": [],
   "source": [
    "for link in prods:\n",
    "    ws.GetSoup(link)\n",
    "    ws.ParseSKU()\n",
    "    ws.ParseName()\n",
    "    ws.ParsePrice()\n",
    "    ws.ParseBrand()\n",
    "    ws.ParseAvailability()\n",
    "    ws.Region()\n",
    "    ws.ParseWeight()\n",
    "    ws.ParseAlcType()\n",
    "    ws.Clas()\n",
    "    ws.Proof()\n",
    "    ws.oneDic()"
   ]
  },
  {
   "cell_type": "code",
   "execution_count": 743,
   "metadata": {},
   "outputs": [],
   "source": [
    "df = pd.DataFrame.from_dict(ws.dataall).transpose()"
   ]
  },
  {
   "cell_type": "code",
   "execution_count": 752,
   "metadata": {},
   "outputs": [],
   "source": [
    "export = df.to_csv(\"dataframe.csv\")"
   ]
  },
  {
   "cell_type": "code",
   "execution_count": null,
   "metadata": {},
   "outputs": [],
   "source": []
  },
  {
   "cell_type": "code",
   "execution_count": 202,
   "metadata": {},
   "outputs": [],
   "source": [
    "##### parte 3 #### "
   ]
  },
  {
   "cell_type": "code",
   "execution_count": 654,
   "metadata": {},
   "outputs": [],
   "source": [
    "def ParseName(link):\n",
    "    soup = GetSoup(link)\n",
    "    return soup.find('h1', attrs={'class':'product_title entry-title'}).text"
   ]
  },
  {
   "cell_type": "code",
   "execution_count": 679,
   "metadata": {},
   "outputs": [],
   "source": [
    "def ParsePrice(link):\n",
    "    soup = GetSoup(link)\n",
    "    el = soup.find('span', attrs={'class':'woocommerce-Price-amount amount'})\n",
    "    return el.text if el else \"NA\""
   ]
  },
  {
   "cell_type": "code",
   "execution_count": 680,
   "metadata": {},
   "outputs": [],
   "source": [
    "def ParseSKU(link):\n",
    "    soup = GetSoup(link)\n",
    "    el = soup.find('span', attrs={'class':'sku'})\n",
    "    return el.text if el else \"NA\""
   ]
  },
  {
   "cell_type": "code",
   "execution_count": 681,
   "metadata": {},
   "outputs": [],
   "source": [
    "def ParseWeight(link):\n",
    "    soup = GetSoup(link)\n",
    "    el = soup.find('tr', attrs={'class':'woocommerce-product-attributes-item woocommerce-product-attributes-item--weight'}).text\n",
    "    return el.replace('Weight', '')"
   ]
  },
  {
   "cell_type": "code",
   "execution_count": 682,
   "metadata": {},
   "outputs": [],
   "source": [
    "def ParseBrand(link):\n",
    "    soup = GetSoup(link)\n",
    "    el = soup.find('tr', attrs={'class':'woocommerce-product-attributes-item woocommerce-product-attributes-item--attribute_pa_brand'})\n",
    "    ele = el.text if el else \"NA\"\n",
    "    return ele.replace(\"Brand\", \"\")"
   ]
  },
  {
   "cell_type": "code",
   "execution_count": 683,
   "metadata": {},
   "outputs": [],
   "source": [
    "def ParseAlcType(link):\n",
    "    soup = GetSoup(link)\n",
    "    el = soup.find('tr', attrs={'class':'woocommerce-product-attributes-item woocommerce-product-attributes-item--attribute_pa_alcohol-type'})\n",
    "    ele = el.text if el else \"NA\"\n",
    "    return ele.replace('Alcohol Type', \"\")"
   ]
  },
  {
   "cell_type": "code",
   "execution_count": 745,
   "metadata": {},
   "outputs": [],
   "source": [
    "def Class(link):\n",
    "    soup = GetSoup(link)\n",
    "    el = soup.find('tr', attrs={'class':\"woocommerce-product-attributes-item woocommerce-product-attributes-item--attribute_pa_class\"})\n",
    "    ele = el.text if el else \"NA\"\n",
    "    return ele.replace(\"Class\",\"\")"
   ]
  },
  {
   "cell_type": "code",
   "execution_count": 685,
   "metadata": {},
   "outputs": [],
   "source": [
    "def Region(link):\n",
    "    soup = GetSoup(link)\n",
    "    el = soup.find('tr', attrs={'class':'woocommerce-product-attributes-item woocommerce-product-attributes-item--attribute_pa_region'})\n",
    "    ele = el.text if el else \"NA\"\n",
    "    return ele.replace(\"Region\",\"\")\n"
   ]
  },
  {
   "cell_type": "code",
   "execution_count": 747,
   "metadata": {},
   "outputs": [],
   "source": [
    "def Proof(link):\n",
    "    soup = GetSoup(link)\n",
    "    el = soup.find('tr', attrs={'class':'woocommerce-product-attributes-item woocommerce-product-attributes-item--attribute_pa_proof'})\n",
    "    ele = el.text if el else \"NA\"\n",
    "    return ele.replace('Proof','')"
   ]
  },
  {
   "cell_type": "code",
   "execution_count": 746,
   "metadata": {},
   "outputs": [],
   "source": [
    "def Availability(link):\n",
    "    soup = GetSoup(link)\n",
    "    el = soup.find('div', attrs={'class':'avada-availability'})\n",
    "    return el.text if el else \"NA\""
   ]
  },
  {
   "cell_type": "code",
   "execution_count": 677,
   "metadata": {},
   "outputs": [],
   "source": [
    "def Star(link):\n",
    "    soup = GetSoup(link)\n",
    "    return soup.find('span', attrs={'class':'yotpo-stars'})\n",
    "    "
   ]
  }
 ],
 "metadata": {
  "kernelspec": {
   "display_name": "Python 3",
   "language": "python",
   "name": "python3"
  },
  "language_info": {
   "codemirror_mode": {
    "name": "ipython",
    "version": 3
   },
   "file_extension": ".py",
   "mimetype": "text/x-python",
   "name": "python",
   "nbconvert_exporter": "python",
   "pygments_lexer": "ipython3",
   "version": "3.7.1"
  }
 },
 "nbformat": 4,
 "nbformat_minor": 2
}
