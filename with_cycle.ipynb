{
 "cells": [
  {
   "cell_type": "code",
   "execution_count": 1,
   "metadata": {},
   "outputs": [],
   "source": [
    "import numpy as np\n",
    "import pandas as pd\n",
    "import matplotlib.pyplot as plt\n",
    "import os\n",
    "import requests\n",
    "from bs4 import BeautifulSoup\n",
    "from urllib.request import urlopen, Request"
   ]
  },
  {
   "cell_type": "code",
   "execution_count": 7,
   "metadata": {},
   "outputs": [
    {
     "data": {
      "text/plain": [
       "array(['https://www.f1-fansite.com/f1-results/1950-f1-championship-standings/',\n",
       "       'https://www.f1-fansite.com/f1-results/1951-f1-championship-standings/',\n",
       "       'https://www.f1-fansite.com/f1-results/1952-f1-championship-standings/',\n",
       "       'https://www.f1-fansite.com/f1-results/1953-f1-championship-standings/',\n",
       "       'https://www.f1-fansite.com/f1-results/1954-f1-championship-standings/',\n",
       "       'https://www.f1-fansite.com/f1-results/1955-f1-championship-standings/',\n",
       "       'https://www.f1-fansite.com/f1-results/1956-f1-championship-standings/',\n",
       "       'https://www.f1-fansite.com/f1-results/1957-f1-championship-standings/',\n",
       "       'https://www.f1-fansite.com/f1-results/1958-f1-championship-standings/',\n",
       "       'https://www.f1-fansite.com/f1-results/1959-f1-championship-standings/',\n",
       "       'https://www.f1-fansite.com/f1-results/1960-f1-championship-standings/',\n",
       "       'https://www.f1-fansite.com/f1-results/1961-f1-championship-standings/',\n",
       "       'https://www.f1-fansite.com/f1-results/1962-f1-championship-standings/',\n",
       "       'https://www.f1-fansite.com/f1-results/1963-f1-championship-standings/',\n",
       "       'https://www.f1-fansite.com/f1-results/1964-f1-championship-standings/',\n",
       "       'https://www.f1-fansite.com/f1-results/1965-f1-championship-standings/',\n",
       "       'https://www.f1-fansite.com/f1-results/1966-f1-championship-standings/',\n",
       "       'https://www.f1-fansite.com/f1-results/1967-f1-championship-standings/',\n",
       "       'https://www.f1-fansite.com/f1-results/1968-f1-championship-standings/',\n",
       "       'https://www.f1-fansite.com/f1-results/1969-f1-championship-standings/',\n",
       "       'https://www.f1-fansite.com/f1-results/1970-f1-championship-standings/',\n",
       "       'https://www.f1-fansite.com/f1-results/1971-f1-championship-standings/',\n",
       "       'https://www.f1-fansite.com/f1-results/1972-f1-championship-standings/',\n",
       "       'https://www.f1-fansite.com/f1-results/1973-f1-championship-standings/',\n",
       "       'https://www.f1-fansite.com/f1-results/1974-f1-championship-standings/',\n",
       "       'https://www.f1-fansite.com/f1-results/1975-f1-championship-standings/',\n",
       "       'https://www.f1-fansite.com/f1-results/1976-f1-championship-standings/',\n",
       "       'https://www.f1-fansite.com/f1-results/1977-f1-championship-standings/',\n",
       "       'https://www.f1-fansite.com/f1-results/1978-f1-championship-standings/',\n",
       "       'https://www.f1-fansite.com/f1-results/1979-f1-championship-standings/',\n",
       "       'https://www.f1-fansite.com/f1-results/1980-f1-championship-standings/',\n",
       "       'https://www.f1-fansite.com/f1-results/1981-f1-championship-standings/',\n",
       "       'https://www.f1-fansite.com/f1-results/1982-f1-championship-standings/',\n",
       "       'https://www.f1-fansite.com/f1-results/1983-f1-championship-standings/',\n",
       "       'https://www.f1-fansite.com/f1-results/1984-f1-championship-standings/',\n",
       "       'https://www.f1-fansite.com/f1-results/1985-f1-championship-standings/',\n",
       "       'https://www.f1-fansite.com/f1-results/1986-f1-championship-standings/',\n",
       "       'https://www.f1-fansite.com/f1-results/1987-f1-championship-standings/',\n",
       "       'https://www.f1-fansite.com/f1-results/1988-f1-championship-standings/',\n",
       "       'https://www.f1-fansite.com/f1-results/1989-f1-championship-standings/',\n",
       "       'https://www.f1-fansite.com/f1-results/1990-f1-championship-standings/',\n",
       "       'https://www.f1-fansite.com/f1-results/1991-f1-championship-standings/',\n",
       "       'https://www.f1-fansite.com/f1-results/1992-f1-championship-standings/',\n",
       "       'https://www.f1-fansite.com/f1-results/1993-f1-championship-standings/',\n",
       "       'https://www.f1-fansite.com/f1-results/1994-f1-championship-standings/',\n",
       "       'https://www.f1-fansite.com/f1-results/1995-f1-championship-standings/',\n",
       "       'https://www.f1-fansite.com/f1-results/1996-f1-championship-standings/',\n",
       "       'https://www.f1-fansite.com/f1-results/1997-f1-championship-standings/',\n",
       "       'https://www.f1-fansite.com/f1-results/1998-f1-championship-standings/',\n",
       "       'https://www.f1-fansite.com/f1-results/1999-f1-championship-standings/',\n",
       "       'https://www.f1-fansite.com/f1-results/2000-f1-championship-standings/',\n",
       "       'https://www.f1-fansite.com/f1-results/2001-f1-championship-standings/',\n",
       "       'https://www.f1-fansite.com/f1-results/2002-f1-championship-standings/',\n",
       "       'https://www.f1-fansite.com/f1-results/2003-f1-championship-standings/',\n",
       "       'https://www.f1-fansite.com/f1-results/2004-f1-championship-standings/',\n",
       "       'https://www.f1-fansite.com/f1-results/2005-f1-championship-standings/',\n",
       "       'https://www.f1-fansite.com/f1-results/2006-f1-championship-standings/',\n",
       "       'https://www.f1-fansite.com/f1-results/2007-f1-championship-standings/',\n",
       "       'https://www.f1-fansite.com/f1-results/2008-f1-championship-standings/',\n",
       "       'https://www.f1-fansite.com/f1-results/2009-f1-championship-standings/',\n",
       "       'https://www.f1-fansite.com/f1-results/2010-f1-championship-standings/',\n",
       "       'https://www.f1-fansite.com/f1-results/2011-f1-championship-standings/',\n",
       "       'https://www.f1-fansite.com/f1-results/2012-f1-championship-standings/',\n",
       "       'https://www.f1-fansite.com/f1-results/2013-f1-championship-standings/',\n",
       "       'https://www.f1-fansite.com/f1-results/2014-f1-championship-standings/',\n",
       "       'https://www.f1-fansite.com/f1-results/2015-f1-championship-standings/',\n",
       "       'https://www.f1-fansite.com/f1-results/2016-f1-championship-standings/',\n",
       "       'https://www.f1-fansite.com/f1-results/2017-f1-championship-standings/',\n",
       "       'https://www.f1-fansite.com/f1-results/2018-f1-championship-standings/',\n",
       "       'https://www.f1-fansite.com/f1-results/2019-f1-championship-standings/'],\n",
       "      dtype='<U69')"
      ]
     },
     "execution_count": 7,
     "metadata": {},
     "output_type": "execute_result"
    }
   ],
   "source": [
    "url = \"https://www.f1-fansite.com/f1-results/1950-f1-championship-standings/\"\n",
    "URLs=np.repeat(url,2019-1950+1, axis=0)\n",
    "years=list(range(1950, 2020))\n",
    "for x in range(0,2019-1950+1):\n",
    "    URLs[x] = URLs[x].replace(\"1950\", str(years)[1+x*6:5+x*6])\n",
    "URLs"
   ]
  },
  {
   "cell_type": "code",
   "execution_count": 6,
   "metadata": {},
   "outputs": [
    {
     "ename": "ValueError",
     "evalue": "Length mismatch: Expected axis has 9 elements, new values have 10 elements",
     "output_type": "error",
     "traceback": [
      "\u001b[1;31m---------------------------------------------------------------------------\u001b[0m",
      "\u001b[1;31mValueError\u001b[0m                                Traceback (most recent call last)",
      "\u001b[1;32m<ipython-input-6-375e36cf57c0>\u001b[0m in \u001b[0;36m<module>\u001b[1;34m\u001b[0m\n\u001b[0;32m     23\u001b[0m         \u001b[0mheaders\u001b[0m\u001b[1;33m.\u001b[0m\u001b[0mappend\u001b[0m\u001b[1;33m(\u001b[0m\u001b[1;33m[\u001b[0m\u001b[0mele\u001b[0m \u001b[1;32mfor\u001b[0m \u001b[0mele\u001b[0m \u001b[1;32min\u001b[0m \u001b[0mcols\u001b[0m \u001b[1;32mif\u001b[0m \u001b[0mele\u001b[0m\u001b[1;33m]\u001b[0m\u001b[1;33m)\u001b[0m\u001b[1;33m\u001b[0m\u001b[1;33m\u001b[0m\u001b[0m\n\u001b[0;32m     24\u001b[0m     \u001b[0mnombres\u001b[0m \u001b[1;33m=\u001b[0m \u001b[0mnp\u001b[0m\u001b[1;33m.\u001b[0m\u001b[0marray\u001b[0m\u001b[1;33m(\u001b[0m\u001b[0mheaders\u001b[0m\u001b[1;33m)\u001b[0m\u001b[1;33m\u001b[0m\u001b[1;33m\u001b[0m\u001b[0m\n\u001b[1;32m---> 25\u001b[1;33m     \u001b[0mtab\u001b[0m\u001b[1;33m.\u001b[0m\u001b[0mcolumns\u001b[0m \u001b[1;33m=\u001b[0m \u001b[0mheaders\u001b[0m\u001b[1;33m\u001b[0m\u001b[1;33m\u001b[0m\u001b[0m\n\u001b[0m\u001b[0;32m     26\u001b[0m     \u001b[0mtab\u001b[0m \u001b[1;33m=\u001b[0m \u001b[0mtab\u001b[0m\u001b[1;33m.\u001b[0m\u001b[0mset_index\u001b[0m\u001b[1;33m(\u001b[0m\u001b[1;34m'Pos'\u001b[0m\u001b[1;33m)\u001b[0m\u001b[1;33m\u001b[0m\u001b[1;33m\u001b[0m\u001b[0m\n\u001b[0;32m     27\u001b[0m     \u001b[1;31m#tab\u001b[0m\u001b[1;33m\u001b[0m\u001b[1;33m\u001b[0m\u001b[1;33m\u001b[0m\u001b[0m\n",
      "\u001b[1;32m~\\Anaconda3\\lib\\site-packages\\pandas\\core\\generic.py\u001b[0m in \u001b[0;36m__setattr__\u001b[1;34m(self, name, value)\u001b[0m\n\u001b[0;32m   4387\u001b[0m         \u001b[1;32mtry\u001b[0m\u001b[1;33m:\u001b[0m\u001b[1;33m\u001b[0m\u001b[1;33m\u001b[0m\u001b[0m\n\u001b[0;32m   4388\u001b[0m             \u001b[0mobject\u001b[0m\u001b[1;33m.\u001b[0m\u001b[0m__getattribute__\u001b[0m\u001b[1;33m(\u001b[0m\u001b[0mself\u001b[0m\u001b[1;33m,\u001b[0m \u001b[0mname\u001b[0m\u001b[1;33m)\u001b[0m\u001b[1;33m\u001b[0m\u001b[1;33m\u001b[0m\u001b[0m\n\u001b[1;32m-> 4389\u001b[1;33m             \u001b[1;32mreturn\u001b[0m \u001b[0mobject\u001b[0m\u001b[1;33m.\u001b[0m\u001b[0m__setattr__\u001b[0m\u001b[1;33m(\u001b[0m\u001b[0mself\u001b[0m\u001b[1;33m,\u001b[0m \u001b[0mname\u001b[0m\u001b[1;33m,\u001b[0m \u001b[0mvalue\u001b[0m\u001b[1;33m)\u001b[0m\u001b[1;33m\u001b[0m\u001b[1;33m\u001b[0m\u001b[0m\n\u001b[0m\u001b[0;32m   4390\u001b[0m         \u001b[1;32mexcept\u001b[0m \u001b[0mAttributeError\u001b[0m\u001b[1;33m:\u001b[0m\u001b[1;33m\u001b[0m\u001b[1;33m\u001b[0m\u001b[0m\n\u001b[0;32m   4391\u001b[0m             \u001b[1;32mpass\u001b[0m\u001b[1;33m\u001b[0m\u001b[1;33m\u001b[0m\u001b[0m\n",
      "\u001b[1;32mpandas\\_libs\\properties.pyx\u001b[0m in \u001b[0;36mpandas._libs.properties.AxisProperty.__set__\u001b[1;34m()\u001b[0m\n",
      "\u001b[1;32m~\\Anaconda3\\lib\\site-packages\\pandas\\core\\generic.py\u001b[0m in \u001b[0;36m_set_axis\u001b[1;34m(self, axis, labels)\u001b[0m\n\u001b[0;32m    644\u001b[0m \u001b[1;33m\u001b[0m\u001b[0m\n\u001b[0;32m    645\u001b[0m     \u001b[1;32mdef\u001b[0m \u001b[0m_set_axis\u001b[0m\u001b[1;33m(\u001b[0m\u001b[0mself\u001b[0m\u001b[1;33m,\u001b[0m \u001b[0maxis\u001b[0m\u001b[1;33m,\u001b[0m \u001b[0mlabels\u001b[0m\u001b[1;33m)\u001b[0m\u001b[1;33m:\u001b[0m\u001b[1;33m\u001b[0m\u001b[1;33m\u001b[0m\u001b[0m\n\u001b[1;32m--> 646\u001b[1;33m         \u001b[0mself\u001b[0m\u001b[1;33m.\u001b[0m\u001b[0m_data\u001b[0m\u001b[1;33m.\u001b[0m\u001b[0mset_axis\u001b[0m\u001b[1;33m(\u001b[0m\u001b[0maxis\u001b[0m\u001b[1;33m,\u001b[0m \u001b[0mlabels\u001b[0m\u001b[1;33m)\u001b[0m\u001b[1;33m\u001b[0m\u001b[1;33m\u001b[0m\u001b[0m\n\u001b[0m\u001b[0;32m    647\u001b[0m         \u001b[0mself\u001b[0m\u001b[1;33m.\u001b[0m\u001b[0m_clear_item_cache\u001b[0m\u001b[1;33m(\u001b[0m\u001b[1;33m)\u001b[0m\u001b[1;33m\u001b[0m\u001b[1;33m\u001b[0m\u001b[0m\n\u001b[0;32m    648\u001b[0m \u001b[1;33m\u001b[0m\u001b[0m\n",
      "\u001b[1;32m~\\Anaconda3\\lib\\site-packages\\pandas\\core\\internals.py\u001b[0m in \u001b[0;36mset_axis\u001b[1;34m(self, axis, new_labels)\u001b[0m\n\u001b[0;32m   3321\u001b[0m             raise ValueError(\n\u001b[0;32m   3322\u001b[0m                 \u001b[1;34m'Length mismatch: Expected axis has {old} elements, new '\u001b[0m\u001b[1;33m\u001b[0m\u001b[1;33m\u001b[0m\u001b[0m\n\u001b[1;32m-> 3323\u001b[1;33m                 'values have {new} elements'.format(old=old_len, new=new_len))\n\u001b[0m\u001b[0;32m   3324\u001b[0m \u001b[1;33m\u001b[0m\u001b[0m\n\u001b[0;32m   3325\u001b[0m         \u001b[0mself\u001b[0m\u001b[1;33m.\u001b[0m\u001b[0maxes\u001b[0m\u001b[1;33m[\u001b[0m\u001b[0maxis\u001b[0m\u001b[1;33m]\u001b[0m \u001b[1;33m=\u001b[0m \u001b[0mnew_labels\u001b[0m\u001b[1;33m\u001b[0m\u001b[1;33m\u001b[0m\u001b[0m\n",
      "\u001b[1;31mValueError\u001b[0m: Length mismatch: Expected axis has 9 elements, new values have 10 elements"
     ]
    }
   ],
   "source": [
    "for x in range(0,2019-1950+1):\n",
    "    r = requests.get(URLs[x])\n",
    "    text = r.text\n",
    "    soup = BeautifulSoup(text)\n",
    "    My_table = soup.find(\"table\", {\"class\":\"motor-sport-results msr_season_driver_results\"})\n",
    "    table_body = My_table.find('tbody')\n",
    "    data = []\n",
    "    rows = table_body.find_all('tr')\n",
    "    for row in rows:\n",
    "        cols = row.find_all('td')\n",
    "        cols = [ele.text.strip() for ele in cols]\n",
    "        data.append([ele for ele in cols if ele])\n",
    "    tab = pd.DataFrame(data)\n",
    " ##############################################################################################\n",
    "################################################################################################\n",
    " ##############################################################################################\n",
    "    table_head = My_table.find('thead')\n",
    "    headers = []\n",
    "    rows = table_head.find_all('tr')\n",
    "    for row in rows:\n",
    "        cols = row.find_all('th')\n",
    "        cols = [ele.text.strip() for ele in cols]\n",
    "        headers.append([ele for ele in cols if ele])\n",
    "    nombres = np.array(headers)\n",
    "    tab.columns = headers\n",
    "    tab = tab.set_index('Pos')\n",
    "    #tab"
   ]
  }
 ],
 "metadata": {
  "kernelspec": {
   "display_name": "Python 3",
   "language": "python",
   "name": "python3"
  },
  "language_info": {
   "codemirror_mode": {
    "name": "ipython",
    "version": 3
   },
   "file_extension": ".py",
   "mimetype": "text/x-python",
   "name": "python",
   "nbconvert_exporter": "python",
   "pygments_lexer": "ipython3",
   "version": "3.7.1"
  }
 },
 "nbformat": 4,
 "nbformat_minor": 2
}
